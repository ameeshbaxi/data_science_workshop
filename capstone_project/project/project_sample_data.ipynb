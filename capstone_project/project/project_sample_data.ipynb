{
 "cells": [
  {
   "cell_type": "code",
   "execution_count": 1,
   "metadata": {
    "collapsed": true
   },
   "outputs": [],
   "source": [
    "# First thing first - bring necessary modules in\n",
    "%matplotlib inline\n",
    "import sklearn\n",
    "import numpy as np\n",
    "import pandas as pd\n",
    "import matplotlib as mpl\n",
    "import matplotlib.cm as cm\n",
    "import matplotlib.pyplot as plt\n",
    "# a utility project level module for\n",
    "# loading samples and plotting data\n",
    "import project_utils as pu\n",
    "# a utility project level module\n",
    "# for classification\n",
    "import model_utils as mu\n",
    "import seaborn as sns\n",
    "sns.set_style(\"whitegrid\")\n",
    "sns.set_context(\"poster\")\n",
    "import datetime as dt\n",
    "import os"
   ]
  },
  {
   "cell_type": "code",
   "execution_count": 2,
   "metadata": {
    "collapsed": true
   },
   "outputs": [],
   "source": [
    "# Load sample with 50-50 (pos-neg) balance\n",
    "df_50 = pu.sample_data(num_samples_per_bin=100, frac_pos=0.5)\n",
    "# Load sample with 33-66 (pos-neg) balance\n",
    "df_33 = pu.sample_data(num_samples_per_bin=100, frac_pos=0.33)\n",
    "# Load sample with 20-80 (pos-neg) balance\n",
    "df_20 = pu.sample_data(num_samples_per_bin=100, frac_pos=0.2)"
   ]
  },
  {
   "cell_type": "code",
   "execution_count": 3,
   "metadata": {
    "collapsed": false
   },
   "outputs": [
    {
     "name": "stdout",
     "output_type": "stream",
     "text": [
      "(1.0, 40429, 40429)\n",
      "(0.49255191508998614, 26684, 54175)\n",
      "(0.25000386476417208, 16172, 64687)\n"
     ]
    }
   ],
   "source": [
    "print(pu.pos_neg_ratio(df_50))\n",
    "print(pu.pos_neg_ratio(df_33))\n",
    "print(pu.pos_neg_ratio(df_20))"
   ]
  },
  {
   "cell_type": "code",
   "execution_count": 4,
   "metadata": {
    "collapsed": false
   },
   "outputs": [
    {
     "data": {
      "text/plain": [
       "Index(['id', 'click', 'hour', 'C1', 'banner_pos', 'site_id', 'site_domain',\n",
       "       'site_category', 'app_id', 'app_domain', 'app_category', 'device_id',\n",
       "       'device_ip', 'device_model', 'device_type', 'device_conn_type', 'C14',\n",
       "       'C15', 'C16', 'C17', 'C18', 'C19', 'C20', 'C21'],\n",
       "      dtype='object')"
      ]
     },
     "execution_count": 4,
     "metadata": {},
     "output_type": "execute_result"
    }
   ],
   "source": [
    "# look at the columns available in data-set\n",
    "df_50.columns"
   ]
  },
  {
   "cell_type": "code",
   "execution_count": 5,
   "metadata": {
    "collapsed": false
   },
   "outputs": [
    {
     "name": "stdout",
     "output_type": "stream",
     "text": [
      "22\n"
     ]
    },
    {
     "data": {
      "text/plain": [
       "['hour',\n",
       " 'C1',\n",
       " 'banner_pos',\n",
       " 'site_id',\n",
       " 'site_domain',\n",
       " 'site_category',\n",
       " 'app_id',\n",
       " 'app_domain',\n",
       " 'app_category',\n",
       " 'device_id',\n",
       " 'device_ip',\n",
       " 'device_model',\n",
       " 'device_type',\n",
       " 'device_conn_type',\n",
       " 'C14',\n",
       " 'C15',\n",
       " 'C16',\n",
       " 'C17',\n",
       " 'C18',\n",
       " 'C19',\n",
       " 'C20',\n",
       " 'C21']"
      ]
     },
     "execution_count": 5,
     "metadata": {},
     "output_type": "execute_result"
    }
   ],
   "source": [
    "# columns for X value (click and id are ignored)\n",
    "print(len(pu.x_columns))\n",
    "pu.x_columns"
   ]
  },
  {
   "cell_type": "code",
   "execution_count": 6,
   "metadata": {
    "collapsed": true
   },
   "outputs": [],
   "source": [
    "total_entreis = 40428967"
   ]
  },
  {
   "cell_type": "code",
   "execution_count": 7,
   "metadata": {
    "collapsed": false
   },
   "outputs": [
    {
     "name": "stdout",
     "output_type": "stream",
     "text": [
      "This Sample is just 0.20% of total data-set!\n"
     ]
    }
   ],
   "source": [
    "sample_size_small = len(df_50.index)\n",
    "fraction_small = sample_size_small * 100.0 / total_entreis\n",
    "print('This Sample is just {:.2f}% of total data-set!'.format(fraction_small))"
   ]
  },
  {
   "cell_type": "code",
   "execution_count": 8,
   "metadata": {
    "collapsed": false
   },
   "outputs": [],
   "source": [
    "large_50 = pu.train_data(frac_pos=0.5)"
   ]
  },
  {
   "cell_type": "code",
   "execution_count": 9,
   "metadata": {
    "collapsed": false
   },
   "outputs": [
    {
     "name": "stdout",
     "output_type": "stream",
     "text": [
      "This Sample is 3.40% of total data-set!\n"
     ]
    }
   ],
   "source": [
    "sample_df = large_50.sample(frac=0.10)\n",
    "sample_size = len(sample_df.index)\n",
    "fraction = sample_size * 100.0 / total_entreis\n",
    "print('This Sample is {:.2f}% of total data-set!'.format(fraction))"
   ]
  },
  {
   "cell_type": "code",
   "execution_count": 10,
   "metadata": {
    "collapsed": false
   },
   "outputs": [
    {
     "name": "stdout",
     "output_type": "stream",
     "text": [
      "This sample is 16.98 bigger than the smaller sample.\n"
     ]
    }
   ],
   "source": [
    "print(\"This sample is {:.2f} bigger than the smaller sample.\".format(fraction / fraction_small))"
   ]
  },
  {
   "cell_type": "code",
   "execution_count": 12,
   "metadata": {
    "collapsed": false
   },
   "outputs": [
    {
     "name": "stdout",
     "output_type": "stream",
     "text": [
      "0.999319975537 686273 686740\n"
     ]
    }
   ],
   "source": [
    "ratio, num_pos, num_neg = pu.pos_neg_ratio(sample_df)\n",
    "print (ratio, num_pos, num_neg)"
   ]
  }
 ],
 "metadata": {
  "anaconda-cloud": {},
  "kernelspec": {
   "display_name": "Python [conda root]",
   "language": "python",
   "name": "conda-root-py"
  },
  "language_info": {
   "codemirror_mode": {
    "name": "ipython",
    "version": 3
   },
   "file_extension": ".py",
   "mimetype": "text/x-python",
   "name": "python",
   "nbconvert_exporter": "python",
   "pygments_lexer": "ipython3",
   "version": "3.5.2"
  }
 },
 "nbformat": 4,
 "nbformat_minor": 1
}
