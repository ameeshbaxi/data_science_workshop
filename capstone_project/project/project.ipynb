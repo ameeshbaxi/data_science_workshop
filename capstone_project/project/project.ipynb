{
 "cells": [
  {
   "cell_type": "markdown",
   "metadata": {},
   "source": [
    "# Predict Click-Through-Rate\n",
    "\n",
    "## Problem To Be Solved:\n",
    "The project is to predict whether a mobile ad will be clicked or not. Click-Through-Rate (CTR) metric is used for evaluating ad performance and CTR systems are widely used by internet economy. The problem and solutions are applicable to current internet economy. The problem provides quite a good learning opportunity with a typical setup in real word with lots of data and lots of features.\n",
    "\n",
    "## Project Client:\n",
    "The project is a completed [Kaggle Competetion](https://www.kaggle.com/c/avazu-ctr-prediction). There is already a solution available for the project and reward has been awarded to the winning team.\n",
    "\n",
    "The project client is myself to see if I am able to apply advanced Machine Learning technologies and Data Science methodologies learned in this workshop to arrive to a solution that would match up to the top teams in the competition. Since the solution is available, there is a certainty to solution that one should arrive. \n",
    "As mentioned before, the main aim here is to apply learning of this course to a real life problem to 1) refine the learnings further 2) demonstrate the learnings  and 3) be ready to apply the learnings to next projects.\n",
    "\n",
    "## Data Set:\n",
    "The data-set is available [here](https://www.kaggle.com/c/avazu-ctr-prediction/data). The data-set contains training and test data. The data-set is in csv format. The zipped training data, is about 1 Gb in size and test data-set is about 118 Mb. The data-set is well defined with some of the categorical features anonymized.\n",
    "\n",
    "## Data Fields:\n",
    "* id: ad identifier\n",
    "* click: 0/1 for non-click/click\n",
    "* hour: format is YYMMDDHH, so 14091123 means 23:00 on Sept. 11, 2014 UTC.\n",
    "* C1 -- anonymized categorical variable\n",
    "* banner_pos\n",
    "* site_id\n",
    "* site_domain\n",
    "* site_category\n",
    "* app_id\n",
    "* app_domain\n",
    "* app_category\n",
    "* device_id\n",
    "* device_ip\n",
    "* device_model\n",
    "* device_type\n",
    "* device_conn_type\n",
    "* C14-C21 -- anonymized categorical variables\n",
    "\n",
    "## Anonymized Categorical Variables:\n",
    "Most of the fields are self-explanatory around mobile ad being clicked or not. However, there are anonymized categorical variables. It would have been good to get an idea about these variables. Not knowing the name or significance of these fields, any data engineering could not be applied to these fields and they have to be taken as they are given.\n",
    "\n",
    "## Data Story:\n",
    "Please see [here](../../data_story/data_story.html) for the data exploration of the data-set for this project. The following are the main points from the data story.\n",
    "\n",
    "1.\tFrom the data-set, the Click-Through-Rate is about 16.98%. The Click-Through-Rate is successfully clicked ad from the total data-set. As explained in the field, when Click value is greater than zero, an ad is clicked.\n",
    "2.\tThe training data-set contains about 40+ million entries with 22 features affecting the prediction.\n",
    "3.\tWith the large number of entries, only about 17% data is classified as positive class and remaining are in negative class. The negative class values are about 5 times more than positive class value. The data-set presents Class imbalance problem.\n",
    "4.\tWith various exploration, at times it seems that day and time may not have much impact. However, the volume of data on a particular day may have an impact. It would be hard to tell if there is a real impact or not without running through various models.\n",
    "5.\tAs discussed above, all features shall be considered for the modelling purpose.\n",
    "\n",
    "## Predicting CTR:\n",
    "\n",
    "### Glossary:\n",
    "* **LR:** Logistic Regression\n",
    "* **SGDC:** SGD Classifier\n",
    "* **RFC:** Random Forest Classifier\n",
    "* **LR50:** LinearRegression trained with data-set containing balanced 50-50 positive-negative classes.\n",
    "* **LR33:** LinearRegression trained with data-set containing 33% positive class entries.\n",
    "* **LR20:** LinearRegression trained with data-set containing 20% positive class entries.\n",
    "* **SGDC50:** SGD Classifier trained with data-set containing balanced 50-50 positive-negative classes.\n",
    "* **SGDC33:** SGD Classifier trained with data-set containing 33% positive class entries.\n",
    "* **SGDC20:** SGD Classifier trained with data-set containing 20% positive class entries.\n",
    "* **RFC50:** Random Forest Classifier trained with data-set containing balanced 50-50 positive-negative classes.\n",
    "\n",
    "### Project Utils and Model Utils:\n",
    "\n",
    "As the modelling process started, it became clear that a common inteface is required to try different classifier on the different data-sets. For this purpose project_utils and model_utils have been developed. The development of these utility files have been iterative. These modules were developed after initial modeling experiments. These modules can be found at the following link location.\n",
    "\n",
    "* **[project_utils](./project_utils.py)**: This modules provides the following interfaces.\n",
    "  * Reading large CSV files\n",
    "  * Generating training samples with on-demand pos-neg balance ratio\n",
    "  * Generating test samples\n",
    "  * Plotting distribution plot of actual data or predicted data\n",
    "  * Calibration curves.\n",
    "  * Calculating CTR for TEST DATA.\n",
    "\n",
    "* **[model_utils](./model_utils.py)**: This module specifies do_classify interface to find the best parameters for a classifier using **GridSeachCV** method.\n",
    "\n",
    "### Predicting CTR with Smaller Sample:\n",
    "As mentioned before, the training data-set is large for consumer grade computers. It may not qualify as Big-Data but available local computer resources would not be able to process the whole data-set. This would be recurring issue in many real-life problems.\n",
    "\n",
    "The idea here is to apply the statistical principles to draw a reasonable workable sample that can be used on local resources to try different model. Once the best classifier is obtained on local resources, apply its principle on biggler sample or whole data-set to get the final model. \n",
    "\n",
    "#### [Samples](project_sample_data.ipynb):\n",
    "\n",
    "**[Conver Data Into Sample](./convert_data.ipynb):** The code available [here](./convert_data.ipynb) converts big train csv into samll csv files. Once a big file is divided into small files, the sampling function could go through each file and draw equal amount of samples.\n",
    "\n",
    "[This notebook](project_sample_data.ipynb) explores the samples used for the classifier. This notebook makes use of **project_utils.sample_data** function to generate required sample. This function draws number of sample per bins specified as an argument from each bin / samll csv file to create a required sample. While creating sample it ensures that the ratio of positive-negative classes is maintained as specified by the argument.\n",
    "\n",
    "#### [LogisticRegression](project_lr.ipynb):\n",
    "[LogisticRegression notebok](project_lr.ipynb) has the following layout. One could jump to specific section of [the notebook](project_lr.ipynb) by clicking the link. The Logistic Regression was used to build the library. So, the purpose here is to capture a snaphsot of the journey of the project.\n",
    "\n",
    "* [Simple Logistic Regression:](project_lr.ipynb#Simple-Logistic-Regression:)<br/>\n",
    "This code uses LogisticRgression available in scikit-learn library.\n",
    "\n",
    "* [LR with KFold = 5:](project_lr.ipynb#LR-with-KFold-=-5:)<br/>\n",
    "This code uses K-Fold approach on the LogisticRehression classifier used in the link above.\n",
    "\n",
    "* [LR - Find Best C value:](project_lr.ipynb#LR---Find-Best-C-value:)<br/>\n",
    "This code tried K-Fold approach on different classifier with different C values and picks the classifier which has the best accuracy score.\n",
    "\n",
    "* [LR with GridSearchCV:](project_lr.ipynb#LR-with-GridSearchCV:)<br/>\n",
    "[GridSearchCV]() available in scikit-learn module returns the best classifier with different parameters after applying KFold approach.\n",
    "\n",
    "* [LR with do_classify:](project_lr.ipynb#LR-with-do_classify:)<br/>\n",
    "**do_classify** function was introduced in LogisticRegression Mini Prject. This function has been adapted for the project. This function is going to be used for the classifier. This function can used on different training data-set and it would produce different result. For this project the following C values have been used.\n",
    "  * **C values**: [0.001, 0.1, 1, 10, 100]<P/>\n",
    "* [LR Accuracy Score:](project_lr.ipynb#LR-Accuracy-Score:)<br/>\n",
    "  * **LR50 Accuracy Score**:\n",
    "    <pre>\n",
    "        BEST PARAMS {'C': 0.1}\n",
    "        Accuracy on training data: 0.55\n",
    "        Accuracy on test data:     0.56\n",
    "    </pre>\n",
    "  * **LR30 Accuracy Score**:\n",
    "    <pre>\n",
    "        BEST PARAMS {'C': 0.01}\n",
    "        Accuracy on training data: 0.67\n",
    "        Accuracy on test data:     0.67\n",
    "    </pre>\n",
    "  * **LR20 Accuracy Score**:\n",
    "    <pre>\n",
    "        BEST PARAMS {'C': 0.01}\n",
    "        Accuracy on training data: 0.80\n",
    "        Accuracy on test data:     0.80\n",
    "    </pre>\n",
    "    \n",
    "  From the above result it seems that the classifier seems to be doing better as class ratio becomes more imbalanced. That may be because classifier might be over fitting it. The same classifier may not be good enough with other data. Also, it is not good enough to look at accuracy score. It is time to look at other perofrmance matrices.\n",
    "\n",
    "* [LR Confusion Matrix:](project_lr.ipynb#LR-Confusion-Matrix:)\n",
    "  * **LR50 + Xtest_lr_50 Confusion Matrix**:\n",
    "    <pre>\n",
    "        [[3238 4851]\n",
    "         [2345 5738]]\n",
    "    </pre>\n",
    "    \n",
    "   <P/> This seems like a good mix of result though False Positive and Flase Negative are quite high. <P/>\n",
    "  * **LR33 + Xtest_lr_33 Confusion Matrix**:\n",
    "    <pre>\n",
    "        [[10859    39]\n",
    "         [ 5257    17]]\n",
    "    </pre>  \n",
    "  * **LR20 + Xtest_lr_20 Confusion Matrix**:\n",
    "    <pre>\n",
    "        [[12923     0]\n",
    "         [ 3249     0]]\n",
    "    </pre>\n",
    "  * **LR33 + Xtest_lr_50 Confusion Matrix**:\n",
    "    <pre>\n",
    "        [[8064   25]\n",
    "         [8060   23]]\n",
    "    </pre>\n",
    "  * **LR20 + Xtest_lr_50 Confusion Matrix**:\n",
    "    <pre>\n",
    "        [[8089    0]\n",
    "         [8083    0]]\n",
    "    </pre>\n",
    "    \n",
    "  <p/>The confusion matrix gives a good idea that it is not all well with classifier trained with imbalanced data-set. The prediction has very high rate of False Positive. <p/>\n",
    "\n",
    "* [LR Data Projection:](project_lr.ipynb#LR-Data-Projection:)\n",
    "  * [LR50 Data Projection](project_lr.ipynb#LR50-Data-Projection:)\n",
    "  The test data projection of actuals and predicted with LR50 classifier.\n",
    "  * [LR33 Data Projection](project_lr.ipynb#LR33-Data-Projection:)\n",
    "  The test data projection of actuals and predicted with LR33 classifier.\n",
    "  * [LR20 Data Projection](project_lr.ipynb#LR20-Data-Projection:)\n",
    "  The test data projection of actuals and predicted with LR20 classifier.\n",
    "  \n",
    "    Similar to confusion matrix results, the plots for LR33 and LR20 classifier show that they suffer from the issue off False Positive prediction. However LR50 classifier had some mis-classification and the problem requires something more than simple Logistic Regression. <p/>\n",
    "\n",
    "* [LR Calibration Curve:](project_lr.ipynb#LR-Calibration-Curve:)\n",
    "  * [LR50 Calibration Curve:](project_lr.ipynb#LR50-Calibration-Curve:)\n",
    "  The calibration curve of all classifiers with X50 data set.\n",
    "  * [LR33 Calibration Curve:](project_lr.ipynb#LR33-Calibration-Curve:)\n",
    "  The calibration curve of all classifiers with X33 data set.\n",
    "  * [LR20 Calibration Curve:](project_lr.ipynb#LR20-Calibration-Curve:)\n",
    "  The calibration curve of all classifiers with X20 data set.\n",
    "  \n",
    "  The Calibration curve shows that all classifier perform very poorly.\n",
    "\n",
    "#### [SGD Classifier](project_sgdc.ipynb):\n",
    "\n",
    "* [Trying Linear SVM:](project_sgdc.ipynb#Trying-Linear-SVM:)<br/>\n",
    "SVM was tried first but SVN took quite a long time. SGD Classifier with loss parameter set to *hinge* behaves as Linear SVM.\n",
    "* [SGDC with do_classify:](project_sgdc.ipynb#SGDC-with-do_classify:)<br/>\n",
    "SGD Classifier has been trained with the following different parameters:\n",
    "  * **alpha: [0.01, 0.1, 1, 10, 100]** Alpha parameter is similar Cs parameter in LogisticRegression.\n",
    "  * **n_iter: [50, 80, 100, 120, 150]** n_iter means number of iterations for training the classifier. As the number of iterations increases, the performace becomes slower. It would be good to find optimal iterations. While experimenting, started with default number of iteration. However, as we have number of features higher, it was clear to update the number of iteration. With higher number of iteration, the gaps between training and cross validation results decrases.\n",
    "<P/>\n",
    "* [SGDC Accuracy Score:](project_sgdc.ipynb#SGDC-Accuracy-Score:)\n",
    "  * **SGDC50 Accuracy Score**:\n",
    "    <pre>\n",
    "        BEST PARAMS {'alpha': 1, 'n_iter': 120}\n",
    "        Accuracy on training data: 0.50\n",
    "        Accuracy on test data:     0.50\n",
    "    </pre>\n",
    "  * **SGDC30 Accuracy Score**:\n",
    "    <pre>\n",
    "        BEST PARAMS {'alpha': 1, 'n_iter': 120}\n",
    "        Accuracy on training data: 0.46\n",
    "        Accuracy on test data:     0.46\n",
    "    </pre>\n",
    "  * **SGDC20 Accuracy Score**:\n",
    "    <pre>\n",
    "        BEST PARAMS {'alpha': 10, 'n_iter': 200}\n",
    "        Accuracy on training data: 0.80\n",
    "        Accuracy on test data:     0.80\n",
    "    </pre>\n",
    "  * **Accuracy score on Xtest Data**:\n",
    "    * **SGDC50**: Accuracy Score ytest: 0.492852\n",
    "    * **SGDC33**: Accuracy Score ytest: 0.492110\n",
    "    * **SGDC20**: Accuracy Score ytest: 0.498837\n",
    "\n",
    "  The accuracy score looks stunningly similar. Next Let's look at confusion matrix scores. <P/>\n",
    "\n",
    "* [SGDC Confusion Matrix:](project_sgdc.ipynb#SGDC-Confusion-Matrix:)\n",
    "  * **SGDC50 + Xtest_sgd_50 Confusion Matrix**:\n",
    "    <pre>\n",
    "        [[7193  969]\n",
    "         [7075  935]]\n",
    "    </pre>\n",
    "  * **SGDC33 + Xtest_sgd_33 Confusion Matrix**:\n",
    "    <pre>\n",
    "        [[4235 6572]\n",
    "         [2132 3233]]\n",
    "    </pre>  \n",
    "  * **SGDC20 + Xtest_sgd_20 Confusion Matrix**:\n",
    "    <pre>\n",
    "        [[12952     0]\n",
    "         [ 3220     0]]\n",
    "    </pre>\n",
    "  * **SGDC33 + Xtest_sgd_50 Confusion Matrix**:\n",
    "    <pre>\n",
    "        [[3232 4930]\n",
    "         [3148 4862]]\n",
    "    </pre>\n",
    "  * **SGDC20 + Xtest_sgd_50 Confusion Matrix**:\n",
    "    <pre>\n",
    "        [[8162    0]\n",
    "         [8010    0]]\n",
    "    </pre>\n",
    "  * **SGDC50 + Xtest Confusion Matrix**:\n",
    "    <pre>\n",
    "        [[8860 1224]\n",
    "         [9028 1103]]\n",
    "    </pre>\n",
    "  * **SGDC33 + Xtest Confusion Matrix**:\n",
    "    <pre>\n",
    "        [[3884 6200]\n",
    "         [4067 6064]]\n",
    "    </pre>\n",
    "  * **SGDC33 + Xtest Confusion Matrix**:\n",
    "    <pre>\n",
    "        [[10084     0]\n",
    "         [10131     0]]\n",
    "    </pre>\n",
    "  \n",
    "  From the above results it can be confirmed that SGD classifiers suffer from False Positive. SGD50 and SGD33 classifiers have a very close accuracy score but confusion matrix results seem very different. <P/>\n",
    "  \n",
    "* [SGDC Data Projection:](project_sgdc.ipynb#SGDC-Data-Projection:)\n",
    "  * [SGDC50 Data Projection](project_lr.ipynb#SGDC50-Data-Projection:)\n",
    "  The test data projection of actuals and predicted with SGDC50 classifier.\n",
    "  * [SGDC33 Data Projection](project_lr.ipynb#SGDC33-Data-Projection:)\n",
    "  The test data projection of actuals and predicted with SGDC33 classifier.\n",
    "  * [SGDC20 Data Projection](project_lr.ipynb#SGDC20-Data-Projection:)\n",
    "  The test data projection of actuals and predicted with SGDC20 classifier.\n",
    "  \n",
    "The data projection shows that SGDC50 classifier performs reasobaly well.\n",
    "\n",
    "* [SGDC Calibration Curve:](project_sgdc.ipynb#SGDC-Calibration-Curve:)\n",
    "  * [SGDC50 Calibration Curve:](project_lr.ipynb#SGDC50-Calibration-Curve:)\n",
    "  The calibration curve of all SGD classifiers with X50 data set.\n",
    "  * [SGDC33 Calibration Curve:](project_lr.ipynb#SGDC33-Calibration-Curve:)\n",
    "  The calibration curve of all SGD classifiers with X33 data set.\n",
    "  * [SGDC20 Calibration Curve:](project_lr.ipynb#SGDC20-Calibration-Curve:)\n",
    "  The calibration curve of all SGD classifiers with X20 data set.\n",
    "\n",
    "The calibration result shows a horizontal line for all classifier. This suggests that these classification could suffer from miss-calssification issue. Also, for the balanced data-set the accuracy howers around 50%.\n",
    "\n",
    "From the above plots, confusion matrix and accuracy score, it can be inferred that SGD Classifier does not perform well. \n",
    "\n",
    "#### [Random Forest Classifier](project_rfc.ipynb):\n",
    "LinearRegession, SGD Classifier and initial expeiments showed that imbalanced class really does not perform well. It tends to overfit the data and prediction on test data is really poor. Because of this reason, only 50-50 balanced data-set will be used.\n",
    "\n",
    "Theory has suggested for lots of features and lots of data entries, Random Forest should be a good fit.\n",
    "\n",
    "Since the sample is reduced drastically, for this classifier, **OOB** parameter will set to **True** for using OOB error elements for cross validation. \n",
    "\n",
    "* [RFC50 with do_classify:](project_rfc.ipynb#RFC50-with-do_classify:) <br/>\n",
    "RandomForest Classifier has been trained with the following different parameters:\n",
    "  * **n_estimators: [80, 100, 120, 150]**<br/>\n",
    "    For initial experiments, RandomClassifier was used with default parameters. Some of the errors spitted by the model made it clear that n_estimators must be updated as number of features are much higher. Eventully, an ideal range was found where this classifier was perofrming the best. <br/>\n",
    "    \n",
    "  * **min_samples_leaf: [20, 50, 80]**<br/>\n",
    "    With n_estimator to be higher value and min_samples_leaf set to default value (which is 1), the model started overfitting the training data. There was a huge gap between training accuracy and cross validation accuracy. Again, for different experiments, different values (starting from default value) were picked for this parameter and quickly the training accuracy started matching the cross validation accuracy.\n",
    "    \n",
    "* [RFC50 Accuracy Score:](project_rfc.ipynb#RFC50-Accuracy-Score:)\n",
    "  * **RFC50 + X and Xtest Accuracy Score**:\n",
    "    <pre>\n",
    "        BEST PARAMS {'min_samples_leaf': 20, 'n_estimators': 100}\n",
    "        Accuracy on training data: 0.70\n",
    "        Accuracy on test data:     0.66\n",
    "    </pre>\n",
    "  * **Accuracy score on different XData**:\n",
    "    * Accuracy Score Xtest: 0.696859\n",
    "    * Accuracy Score X33: 0.647967\n",
    "    * Accuracy Score X20: 0.635885  \n",
    "  <P/>\n",
    " The above accuracy scores suggest that the model seems to be holding up well against different kind of data-sets. The gap between training and cross validation seems to be very minimum.\n",
    "  <P/>\n",
    "* [RFC50 Confusion Matrix:](project_rfc.ipynb#RFC50-Confusion-Matrix:)<br/>\n",
    "  * **RFC50 + Xtest_rfc_50 Confusion Matrix**:\n",
    "  <pre>\n",
    "        [[4972 3051]\n",
    "         [2387 5762]]\n",
    "  </pre>\n",
    "  * **RFC50 + X33 Confusion Matrix**:\n",
    "  <pre>\n",
    "        [[33613 20562]\n",
    "         [ 7903 18781]]\n",
    "  </pre>\n",
    "  * **RFC50 + X20 Confusion Matrix**:\n",
    "  <pre>\n",
    "        [[39955 24732]\n",
    "         [ 4710 11462]]\n",
    "  </pre>\n",
    "\n",
    "  The above results show that the classifier seems to be holding well with different data-sets. <P/>\n",
    "  \n",
    "* [RFC50 Data Projection:](project_rfc.ipynb#RFC50-Data-Projection:)<br/>\n",
    "<P/>The [different data projection](project_rfc.ipynb#RFC50-Data-Projection:) of actual and predicted data with RFC50 show that the classifier is holding well. <P/>\n",
    "* [RFC50 Calibration Curve:](project_rfc.ipynb#RFC50-Calibration-Curve:)<br/>\n",
    "<P/>The [Calibration Curves](project_rfc.ipynb#RFC50-Calibration-Curve:) show that for a balanced set, the calibration projection line almost alignes with perfectly calibrated line. However, for imbalanced data-set, the line dips slightly in the middle but still the performance of the classifier is much superior than LR and SGD Classifiers.<P/>\n",
    "* [RFC50 Feature Importances:](project_rfc.ipynb#RFC50-Feature-Importances:)<br/>\n",
    "<P/>This shows the importance / weights of different features calculated by this training data-set.\n",
    "   <pre>\n",
    "        array([ 0.03440021,  0.00904071,  0.01600058,  0.08828306,  0.08419701,\n",
    "                0.03522298,  0.0662777 ,  0.03661395,  0.04734966,  0.02005243,\n",
    "                0.06662916,  0.06358917,  0.00886233,  0.02095102,  0.0750727 ,\n",
    "                0.01903772,  0.04649285,  0.05405036,  0.03040371,  0.04324246,\n",
    "                0.04842395,  0.08580628])\n",
    "  </pre>\n",
    "\n",
    "* [TEST DATA With RFC50 Classifier:](project_rfc.ipynb#TEST-DATA-With-RFC50-Classifier:)<P/>\n",
    "  * [TEST DATA CTR:](project_rfc.ipynb#TEST-DATA-CTR:)<P/>\n",
    "    The predicted CTR for TEST DATA is **35.11%**.<P/>\n",
    "  * [TEST DATA Projection:](project_rfc.ipynb#TEST-DATA-Projection:)<P/>\n",
    "    See the Test DATA Projection.<P/>\n",
    "  * [TEST DATA Calibaration Curve:](project_rfc.ipynb#TEST-DATA-Calibaration-Curve:)<P/>\n",
    "    See the Test DATA Calibration Curve.<P/>\n",
    "  * [Next Step:](project_rfc.ipynb#Next-Step:)<P/>\n",
    "    The sample is only **0.2%** of the whole data-set. Next step is to take bigger sample on server and see how this classifier holds against the classifier with larger sample.\n",
    "\n",
    "### Predicting CTR with Larger Sample:\n",
    "\n",
    "There were few experiments carried out before finalizing the project solution with the large data. The first instict was to use all data entries with positive classification and select the same number of negative classifier randomly from the data set to create a balanced sample. Use this balanced sample for training a classifier.\n",
    "\n",
    "However, this approach proved to be difficult. This kind of data-set comes to more than 2Gb in size. A server with 32Gb could not handle RandomClassifier on this big data-set. Without using distributed computing solution, it seems impossible to use the entire training set.\n",
    "\n",
    "With 25% of the balanced sample generated as mentioned above a classifier could be trained. However, the machine consumed almost 90% of its 32Gb RAM most of the time. With this approach only one classifier could be tried at a time and it would have been impossible to use GridSearchCV to find the best parameters with this data-set on 32Gb RAM machine.\n",
    "\n",
    "For the next experiment, a 64Gb RAM was used and sample size was reduced to 10% of the total balanced sample. For a single run of classification, the server consumed about 12% of its RAM. Even 10% of the total balanced sample was 17 times more than the sample used for local resources.\n",
    "\n",
    "The RAM usage was encouraging and it gave an idea that with this setup GridSearchCV could be used with varying two different parameters total 12 times. Since it was a very big server, n_jobs was set to 8 for parallel processing. The server could return the result with the best classifier in one and half hour time.\n",
    "\n",
    "Like modeling with small sample, **OOB** was also set to True for large sample as well.\n",
    "\n",
    "#### [Random Forest Classifier](project_server.ipynb):\n",
    "* [RFC50 with do_classify:](project_server.ipynb#RFC50-with-do_classify:)<P/>\n",
    "RandomForest Classifier has been trained with the following different parameters:\n",
    "  * **n_estimators: [120, 150, 180, 200]**<br/>\n",
    "    This values are slightly different and a bit higher from the values used with smaller sample. This could be because of sheer number of more data for training purpose.<br/>\n",
    "  * **min_samples_leaf: [20, 50, 80]**<br/>\n",
    "    Even for the biggger data-set min_samples_leaf remain the same as smaller sample. RandomForest Classifier worked with even min_samples_leaf value 1. The smaller value of min_samples_leaf tend to have more affinity towards overfitting. With value 20, the gap between training set accuracy and cross validation accuracy is minimum. \n",
    "\n",
    "* [RFC50 Accuracy Score:](project_server.ipynb#RFC50-Accuracy-Score:)\n",
    "  * **RFC50 + X and Xtest Accuracy Score**:\n",
    "    <pre>\n",
    "        BEST PARAMS {'n_estimators': 150, 'min_samples_leaf': 20}\n",
    "        Accuracy on training data: 0.70\n",
    "        Accuracy on test data:     0.68\n",
    "    </pre>\n",
    "  * **Accuracy score on different XData**:\n",
    "    * Accuracy Score Xtest_rfc_50: 0.683692\n",
    "    * Accuracy Score X50: 0.694862\n",
    "  <P/>\n",
    "* [RFC50 Confusion Matrix:](project_server.ipynb#RFC50-Confusion-Matrix:)<P/>\n",
    "  * **RFC50 + Xtest_rfc_50 Confusion Matrix**:\n",
    "    <pre>\n",
    "       [[ 83630  53030]\n",
    "        [ 33829 104114]]\n",
    "    </pre>\n",
    "  * **RFC50 + Xtest_rfc_50 Confusion Matrix**:\n",
    "    <pre>\n",
    "        [[427149 259041]\n",
    "         [159917 526906]]\n",
    "    </pre>\n",
    "    \n",
    " The Confusion Matrix suggests that classifier tends to classify some False Positive and that is where around 30% accuracy loss occurs.<P/>\n",
    " \n",
    "* [RFC50 Data Projection:](project_server.ipynb#RFC50-Data-Projection:)<P/>\n",
    "See the [different data projection](project_server.ipynb#RFC50-Data-Projection:) of actual and predicted data with RFC50.<P/>\n",
    "* [RFC50 Calibration Curve:](project_server.ipynb#RFC50-Calibration-Curve:)<P/>\n",
    "The [Calibration Curves](project_rfc.ipynb#RFC50-Calibration-Curve:) show that, the calibration projection line alignes very much with perfectly calibrated line. <P/>\n",
    "* [RFC50 Feature Importances:](project_server.ipynb#RFC50-Feature-Importances:)<P/>\n",
    "This shows the importance / weights of different features calculated by this training data-set.\n",
    "  <pre>\n",
    "    array([0.        ,  0.01111992,  0.01738841,  0.09691916,  0.08738399,\n",
    "           0.04054367,  0.07020832,  0.03947884,  0.05462069,  0.0195703 ,\n",
    "           0.05671768,  0.05611883,  0.01111614,  0.02457952,  0.07627469,\n",
    "           0.0286369 ,  0.04700204,  0.05679609,  0.03451965,  0.04139404,\n",
    "           0.04609788,  0.08351324])\n",
    "  </pre>\n",
    "\n",
    "* [TEST DATA With RFC50 Classifier:](project_server.ipynb#TEST-DATA-With-RFC50-Classifier:)<P/>\n",
    "  * [TEST DATA CTR:](project_server.ipynb#TEST-DATA-With-CTR:)<P/>\n",
    "  The predicted CTR for TEST DATA is **35.01%**.<P/>\n",
    "  * [TEST DATA Projection:](project_server.ipynb#TEST-DATA-Projection:)<P/>\n",
    "  See the Test DATA Projection.<P/>\n",
    "  * [TEST DATA Calibaration Curve:](project_server.ipynb#TEST-DATA-Calibaration-Curve:)<P/>\n",
    "  See the Test DATA Calibration Curve.<P/>\n",
    "\n",
    "\n",
    "### Comparing RFC50 Small Sample and Large Sample Results:\n",
    "\n",
    "The following table shows the results of **RFC50** Classifier trained on small and large sample. The large sample is 17 times larger than the small sample.\n",
    "\n",
    "| Sample Type | Sample Size         | Train Accuracy| Test Accuracy | Predicted CTR \n",
    "|-------------|---------------------|---------------|---------------|---------------\n",
    "|Small Sample |0.2% of training data|70%            |66%            |35.11%         \n",
    "|Large Sample |3.4% of training data|70%            |67%            |35.01%         \n",
    "\n",
    "### Conclusion:\n",
    "* **RandomForest Classifier** trained with with 50-50 balanced sample perform the best among LogisticRegresson, SGDClassifier and RandomForest Classifier.\n",
    "* Predicted **CTR** of the **TEST DATA** is **35%**.\n",
    "* The results from small samples are comparable with large sample.\n",
    "\n",
    "### Key Learnings:\n",
    "\n",
    "The following is list of key learnings from this project.\n",
    "\n",
    "* Work with complex data set.\n",
    "* Use different classifiers from sklearn module / library.\n",
    "* Find an appropriate classifier on the hand.\n",
    "* Tune the model so that training accuracy and cross validation accuracy match.\n",
    "* Find an acceptable solution that can be used on limited resources.\n",
    "* Use servers in cloud compute solutions like Amazon AWS for modelling with large data-set.\n",
    "\n",
    "### Future Work:\n",
    "\n",
    "RandomForest Classifier does a reasonable job. However, the accuracy of the classifier could be improved. A few things like 1) reducing number of features for prediction 2) increasing weights of certain features 3) using different ensemble classifier could be done to extend the accuracy for the given project.  "
   ]
  }
 ],
 "metadata": {
  "anaconda-cloud": {},
  "kernelspec": {
   "display_name": "Python [conda root]",
   "language": "python",
   "name": "conda-root-py"
  },
  "language_info": {
   "codemirror_mode": {
    "name": "ipython",
    "version": 3
   },
   "file_extension": ".py",
   "mimetype": "text/x-python",
   "name": "python",
   "nbconvert_exporter": "python",
   "pygments_lexer": "ipython3",
   "version": "3.5.2"
  },
  "nbpresent": {
   "slides": {
    "0117ec84-5796-46bd-be9e-fe5dea0a222d": {
     "id": "0117ec84-5796-46bd-be9e-fe5dea0a222d",
     "prev": "15c736e4-2f63-45e3-80cb-233ef973221f",
     "regions": {
      "9558e646-02da-4b99-a20f-0cbddfdc573c": {
       "attrs": {
        "height": 0.8,
        "width": 0.8,
        "x": 0.1,
        "y": 0.1
       },
       "content": {
        "cell": "1461023f-82d7-4236-94fb-da849bf9be18",
        "part": "whole"
       },
       "id": "9558e646-02da-4b99-a20f-0cbddfdc573c"
      }
     }
    },
    "029a0671-5e65-495c-b848-af73b3d66794": {
     "id": "029a0671-5e65-495c-b848-af73b3d66794",
     "prev": "d73abb4d-aba6-49b4-922e-399df24ff027",
     "regions": {
      "688943f0-256e-4f91-9e5b-d2e710922bc4": {
       "attrs": {
        "height": 0.8,
        "width": 0.8,
        "x": 0.1,
        "y": 0.1
       },
       "content": {
        "cell": "22bcd541-bcc7-4964-bd77-a0719f20274a",
        "part": "whole"
       },
       "id": "688943f0-256e-4f91-9e5b-d2e710922bc4"
      }
     }
    },
    "02cbbe91-50ff-4c4a-b1fa-2f97d574b513": {
     "id": "02cbbe91-50ff-4c4a-b1fa-2f97d574b513",
     "prev": "512d37fc-e455-4879-b681-677b0710035f",
     "regions": {
      "dfb27188-c454-4787-a497-a3c2500f6bcb": {
       "attrs": {
        "height": 0.8,
        "width": 0.8,
        "x": 0.1,
        "y": 0.1
       },
       "content": {
        "cell": "2ad4d989-a102-43ef-b113-b50f00e92960",
        "part": "whole"
       },
       "id": "dfb27188-c454-4787-a497-a3c2500f6bcb"
      }
     }
    },
    "051c052b-4b71-4221-a0c0-db8545a78f53": {
     "id": "051c052b-4b71-4221-a0c0-db8545a78f53",
     "prev": "712853cf-d996-4589-bfaf-6b702abea933",
     "regions": {
      "b7a8db9f-43d3-405d-b133-fd1f7487816c": {
       "attrs": {
        "height": 0.8,
        "width": 0.8,
        "x": 0.1,
        "y": 0.1
       },
       "content": {
        "cell": "0f7c9dbf-e524-40ef-8bb7-fe264ecaa4cd",
        "part": "whole"
       },
       "id": "b7a8db9f-43d3-405d-b133-fd1f7487816c"
      }
     }
    },
    "05830708-b69c-45c6-a671-7c29574067f4": {
     "id": "05830708-b69c-45c6-a671-7c29574067f4",
     "prev": "d77cfea1-9a2d-49c8-a1b1-1705eda07efe",
     "regions": {
      "0774530f-a909-4dc4-9c25-9d207605a7ed": {
       "attrs": {
        "height": 0.8,
        "width": 0.8,
        "x": 0.1,
        "y": 0.1
       },
       "content": {
        "cell": "d6d6d923-866c-4de8-b09d-277f52e78eb2",
        "part": "whole"
       },
       "id": "0774530f-a909-4dc4-9c25-9d207605a7ed"
      }
     }
    },
    "091c9431-5416-4b31-902b-c0d478bbf648": {
     "id": "091c9431-5416-4b31-902b-c0d478bbf648",
     "prev": "18d2e3c8-d56e-4c98-8377-3612fc177d45",
     "regions": {
      "61f12016-c26a-431e-bf42-4e0a8422107f": {
       "attrs": {
        "height": 0.8,
        "width": 0.8,
        "x": 0.1,
        "y": 0.1
       },
       "content": {
        "cell": "55e88771-3b7b-4e56-953a-913d0d91ac1d",
        "part": "whole"
       },
       "id": "61f12016-c26a-431e-bf42-4e0a8422107f"
      }
     }
    },
    "09265890-eab3-4e63-9b23-ac21457c08f5": {
     "id": "09265890-eab3-4e63-9b23-ac21457c08f5",
     "prev": "ad85b78b-9bd8-4ef1-8e87-37cf95c6ccd1",
     "regions": {
      "8b3f58e5-93cb-4cca-bbaa-2ffaba9ad276": {
       "attrs": {
        "height": 0.8,
        "width": 0.8,
        "x": 0.1,
        "y": 0.1
       },
       "content": {
        "cell": "f6ec2dea-e4b9-4a28-a95d-56dd876ddd98",
        "part": "whole"
       },
       "id": "8b3f58e5-93cb-4cca-bbaa-2ffaba9ad276"
      }
     }
    },
    "0b019236-a39c-49b1-8eae-2d9b208ae3bf": {
     "id": "0b019236-a39c-49b1-8eae-2d9b208ae3bf",
     "prev": "1df773bc-2219-41f9-8dcc-9260b930bd7a",
     "regions": {
      "fe1416f8-663e-46ce-b421-c4a483d7e8ea": {
       "attrs": {
        "height": 0.8,
        "width": 0.8,
        "x": 0.1,
        "y": 0.1
       },
       "content": {
        "cell": "4a862a37-7282-4d28-a542-617e7c73275f",
        "part": "whole"
       },
       "id": "fe1416f8-663e-46ce-b421-c4a483d7e8ea"
      }
     }
    },
    "15c736e4-2f63-45e3-80cb-233ef973221f": {
     "id": "15c736e4-2f63-45e3-80cb-233ef973221f",
     "prev": "5df705cf-5a92-48b6-be17-0cd5d526fe56",
     "regions": {
      "4420e9fe-7584-45cf-b47e-874dfff0778a": {
       "attrs": {
        "height": 0.8,
        "width": 0.8,
        "x": 0.1,
        "y": 0.1
       },
       "content": {
        "cell": "318ec311-67e3-4c47-858a-09798bd2720d",
        "part": "whole"
       },
       "id": "4420e9fe-7584-45cf-b47e-874dfff0778a"
      }
     }
    },
    "17f82d97-a43c-4332-900c-ec71075f5090": {
     "id": "17f82d97-a43c-4332-900c-ec71075f5090",
     "prev": "9aaa27c4-caa0-45f1-bd8e-d61544341e09",
     "regions": {
      "4a47f1ae-eccb-437a-b723-cb1932a70465": {
       "attrs": {
        "height": 0.8,
        "width": 0.8,
        "x": 0.1,
        "y": 0.1
       },
       "content": {
        "cell": "ea02c338-7fc3-4383-8345-813c225b3617",
        "part": "whole"
       },
       "id": "4a47f1ae-eccb-437a-b723-cb1932a70465"
      }
     }
    },
    "18d2e3c8-d56e-4c98-8377-3612fc177d45": {
     "id": "18d2e3c8-d56e-4c98-8377-3612fc177d45",
     "prev": "3ab1974e-711f-487f-9ee0-ba58aec23af2",
     "regions": {
      "5b8b2e55-0576-47f1-9364-1b434b6f798e": {
       "attrs": {
        "height": 0.8,
        "width": 0.8,
        "x": 0.1,
        "y": 0.1
       },
       "content": {
        "cell": "8ee02c70-d79d-4d2c-af44-6d039c19bc8b",
        "part": "whole"
       },
       "id": "5b8b2e55-0576-47f1-9364-1b434b6f798e"
      }
     }
    },
    "18e957ae-8d01-494f-89e1-c0bb9c5b3c8c": {
     "id": "18e957ae-8d01-494f-89e1-c0bb9c5b3c8c",
     "prev": "f4dc8ccd-91ca-44d8-8bb4-4008e6d5fc6b",
     "regions": {
      "1d45b00f-b7e3-4481-9fd0-29f24c526855": {
       "attrs": {
        "height": 0.8,
        "width": 0.8,
        "x": 0.1,
        "y": 0.1
       },
       "content": {
        "cell": "ca4982ef-7be1-4ab2-abf1-5a6f1faafdb0",
        "part": "whole"
       },
       "id": "1d45b00f-b7e3-4481-9fd0-29f24c526855"
      }
     }
    },
    "1df773bc-2219-41f9-8dcc-9260b930bd7a": {
     "id": "1df773bc-2219-41f9-8dcc-9260b930bd7a",
     "prev": "8a7ba1ef-3aeb-42fb-a138-c2a298db7925",
     "regions": {
      "be3c4e6d-b87e-433f-ae60-52dc88afaf5e": {
       "attrs": {
        "height": 0.8,
        "width": 0.8,
        "x": 0.1,
        "y": 0.1
       },
       "content": {
        "cell": "f6aa5a86-72e8-419a-80bb-4bee619a8bef",
        "part": "whole"
       },
       "id": "be3c4e6d-b87e-433f-ae60-52dc88afaf5e"
      }
     }
    },
    "1f8a230f-9bfb-4e93-8596-f944a0dc9916": {
     "id": "1f8a230f-9bfb-4e93-8596-f944a0dc9916",
     "prev": "17f82d97-a43c-4332-900c-ec71075f5090",
     "regions": {
      "d4a39a0b-9037-496b-9884-bb0b5d0a9374": {
       "attrs": {
        "height": 0.8,
        "width": 0.8,
        "x": 0.1,
        "y": 0.1
       },
       "content": {
        "cell": "23ed3aa8-45d5-43e9-b054-eb9412a2552e",
        "part": "whole"
       },
       "id": "d4a39a0b-9037-496b-9884-bb0b5d0a9374"
      }
     }
    },
    "2591504b-9391-483f-acac-8aad2959210b": {
     "id": "2591504b-9391-483f-acac-8aad2959210b",
     "prev": "029a0671-5e65-495c-b848-af73b3d66794",
     "regions": {
      "e4f79491-f804-4a38-898d-e34d6d2ddc5f": {
       "attrs": {
        "height": 0.8,
        "width": 0.8,
        "x": 0.1,
        "y": 0.1
       },
       "content": {
        "cell": "f0d1d521-c903-4395-89c0-693de03f7bb7",
        "part": "whole"
       },
       "id": "e4f79491-f804-4a38-898d-e34d6d2ddc5f"
      }
     }
    },
    "26e31768-ea20-4fa8-9031-e16efc6d37fa": {
     "id": "26e31768-ea20-4fa8-9031-e16efc6d37fa",
     "prev": "b6b8af83-bacb-4063-83f9-6fa5034368d5",
     "regions": {
      "8c8f26e4-c851-4225-87fd-30c6e4b0aa1e": {
       "attrs": {
        "height": 0.8,
        "width": 0.8,
        "x": 0.1,
        "y": 0.1
       },
       "content": {
        "cell": "2932d301-c6f2-4b23-b62e-7fea7b3073f5",
        "part": "whole"
       },
       "id": "8c8f26e4-c851-4225-87fd-30c6e4b0aa1e"
      }
     }
    },
    "2987e522-ae76-4005-bb83-1a4746cf8016": {
     "id": "2987e522-ae76-4005-bb83-1a4746cf8016",
     "prev": "b1fe59df-95ca-43de-9bc2-cdc34c2a968e",
     "regions": {
      "e63eef96-385d-4937-90ea-86d786b2b81a": {
       "attrs": {
        "height": 0.8,
        "width": 0.8,
        "x": 0.1,
        "y": 0.1
       },
       "content": {
        "cell": "7fc39615-e54c-4cdc-be22-bf3e522136e9",
        "part": "whole"
       },
       "id": "e63eef96-385d-4937-90ea-86d786b2b81a"
      }
     }
    },
    "2af61966-09b4-427b-bed8-cf76d955254a": {
     "id": "2af61966-09b4-427b-bed8-cf76d955254a",
     "prev": "a595325c-b2b1-421b-97a8-df671a5359e0",
     "regions": {
      "aa89bf68-cef6-417f-b687-6ae7c3e1f45f": {
       "attrs": {
        "height": 0.8,
        "width": 0.8,
        "x": 0.1,
        "y": 0.1
       },
       "content": {
        "cell": "421c1248-e15a-48d2-b5c5-197a0adcec7e",
        "part": "whole"
       },
       "id": "aa89bf68-cef6-417f-b687-6ae7c3e1f45f"
      }
     }
    },
    "2b751618-de39-482d-8cae-0b4c4a85aa5f": {
     "id": "2b751618-de39-482d-8cae-0b4c4a85aa5f",
     "prev": "92b18656-fe18-4bdb-92eb-5188951631eb",
     "regions": {
      "b4dfd75c-6951-481a-8775-f32ed51f1bb1": {
       "attrs": {
        "height": 0.8,
        "width": 0.8,
        "x": 0.1,
        "y": 0.1
       },
       "content": {
        "cell": "ef9023f9-5c5e-4aaa-af8a-09207987c70e",
        "part": "whole"
       },
       "id": "b4dfd75c-6951-481a-8775-f32ed51f1bb1"
      }
     }
    },
    "329b2242-63ea-41f4-8a10-618ebd9f3803": {
     "id": "329b2242-63ea-41f4-8a10-618ebd9f3803",
     "prev": "a6be71cb-4f7a-48bd-9086-2c6af9781fcd",
     "regions": {
      "24e37cb3-0dd3-4264-8446-b610588432bd": {
       "attrs": {
        "height": 0.8,
        "width": 0.8,
        "x": 0.1,
        "y": 0.1
       },
       "content": {
        "cell": "f419bfc2-831a-48c1-a525-6d7e23cf242a",
        "part": "whole"
       },
       "id": "24e37cb3-0dd3-4264-8446-b610588432bd"
      }
     }
    },
    "34f73d7f-0844-4fb3-8dfe-b6d8503caf02": {
     "id": "34f73d7f-0844-4fb3-8dfe-b6d8503caf02",
     "prev": "09265890-eab3-4e63-9b23-ac21457c08f5",
     "regions": {
      "2c582941-228e-4a4a-89cc-f61771499f2a": {
       "attrs": {
        "height": 0.8,
        "width": 0.8,
        "x": 0.1,
        "y": 0.1
       },
       "content": {
        "cell": "252c8f79-e059-4067-9919-775abcf3c86b",
        "part": "whole"
       },
       "id": "2c582941-228e-4a4a-89cc-f61771499f2a"
      }
     }
    },
    "3519a7dd-c633-46ad-8ffb-625736178c20": {
     "id": "3519a7dd-c633-46ad-8ffb-625736178c20",
     "prev": "5990e9b9-e825-4a70-b4ad-fd7bcc6a8cb2",
     "regions": {
      "f94aa8c9-0667-48ec-ab68-8a0fd6b1125e": {
       "attrs": {
        "height": 0.8,
        "width": 0.8,
        "x": 0.1,
        "y": 0.1
       },
       "content": {
        "cell": "f5ba08dd-6dbd-44f3-b7c2-6cfc984fece0",
        "part": "whole"
       },
       "id": "f94aa8c9-0667-48ec-ab68-8a0fd6b1125e"
      }
     }
    },
    "3541b6fb-16e2-4048-a33f-a6a9dca73c84": {
     "id": "3541b6fb-16e2-4048-a33f-a6a9dca73c84",
     "prev": "c205474a-4080-43a0-accf-7b8893f140fa",
     "regions": {
      "31058509-b09f-4d91-be6c-b0bc2437d60a": {
       "attrs": {
        "height": 0.8,
        "width": 0.8,
        "x": 0.1,
        "y": 0.1
       },
       "content": {
        "cell": "571d0be6-7a70-4108-9d14-c3601350bc9b",
        "part": "whole"
       },
       "id": "31058509-b09f-4d91-be6c-b0bc2437d60a"
      }
     }
    },
    "354b81dc-4396-4f3b-bf04-5c4058c300c3": {
     "id": "354b81dc-4396-4f3b-bf04-5c4058c300c3",
     "prev": "051c052b-4b71-4221-a0c0-db8545a78f53",
     "regions": {
      "1d293469-2851-409a-b2aa-99a2564927b9": {
       "attrs": {
        "height": 0.8,
        "width": 0.8,
        "x": 0.1,
        "y": 0.1
       },
       "content": {
        "cell": "aba8eacc-7cdd-409f-9a16-574631d31b8e",
        "part": "whole"
       },
       "id": "1d293469-2851-409a-b2aa-99a2564927b9"
      }
     }
    },
    "37941bf9-ee6f-4a7e-ba87-ca822e547770": {
     "id": "37941bf9-ee6f-4a7e-ba87-ca822e547770",
     "prev": "e2289dfa-211c-4afe-8313-2b75bacba546",
     "regions": {
      "c7c1fd71-d1dd-41f5-a40d-b89331a47238": {
       "attrs": {
        "height": 0.8,
        "width": 0.8,
        "x": 0.1,
        "y": 0.1
       },
       "content": {
        "cell": "bb3bffbb-54a8-4a98-8cba-2c84b2158732",
        "part": "whole"
       },
       "id": "c7c1fd71-d1dd-41f5-a40d-b89331a47238"
      }
     }
    },
    "39405c20-5760-41d0-ad7d-e932158512da": {
     "id": "39405c20-5760-41d0-ad7d-e932158512da",
     "prev": "be643010-0385-4024-908f-a5b0e0587ea6",
     "regions": {
      "7d4af0e0-307b-464d-b8e9-f2f99ea91345": {
       "attrs": {
        "height": 0.8,
        "width": 0.8,
        "x": 0.1,
        "y": 0.1
       },
       "content": {
        "cell": "df5bcf21-bde4-48e0-a071-9ae81258c367",
        "part": "whole"
       },
       "id": "7d4af0e0-307b-464d-b8e9-f2f99ea91345"
      }
     }
    },
    "3ab1974e-711f-487f-9ee0-ba58aec23af2": {
     "id": "3ab1974e-711f-487f-9ee0-ba58aec23af2",
     "prev": "fffcd5fe-37e5-4fe7-aefa-2369a41f5a52",
     "regions": {
      "c0e0c047-8970-4761-a96d-d9c8ea07b9e2": {
       "attrs": {
        "height": 0.8,
        "width": 0.8,
        "x": 0.1,
        "y": 0.1
       },
       "content": {
        "cell": "3fa5e77f-1b4d-4750-9eeb-e766989db5a8",
        "part": "whole"
       },
       "id": "c0e0c047-8970-4761-a96d-d9c8ea07b9e2"
      }
     }
    },
    "46d2cd31-0381-4e80-a8e3-e76a0093bea3": {
     "id": "46d2cd31-0381-4e80-a8e3-e76a0093bea3",
     "prev": "05830708-b69c-45c6-a671-7c29574067f4",
     "regions": {
      "737ba0ea-b545-4669-a7ba-b329fea88b0c": {
       "attrs": {
        "height": 0.8,
        "width": 0.8,
        "x": 0.1,
        "y": 0.1
       },
       "content": {
        "cell": "fb868d28-4112-42f4-9833-c799438f896b",
        "part": "whole"
       },
       "id": "737ba0ea-b545-4669-a7ba-b329fea88b0c"
      }
     }
    },
    "47e4941f-b275-49d0-958a-6c84444010bd": {
     "id": "47e4941f-b275-49d0-958a-6c84444010bd",
     "prev": "4c6fc405-fab8-4814-93ed-90aed961ed7d",
     "regions": {
      "a28607e7-93f0-4363-b6dc-601c36580c72": {
       "attrs": {
        "height": 0.8,
        "width": 0.8,
        "x": 0.1,
        "y": 0.1
       },
       "content": {
        "cell": "50740fdb-0cba-4dd4-bf5d-0f69067c3f33",
        "part": "whole"
       },
       "id": "a28607e7-93f0-4363-b6dc-601c36580c72"
      }
     }
    },
    "4a05d4b5-8af0-4165-91dc-036102cbd2a1": {
     "id": "4a05d4b5-8af0-4165-91dc-036102cbd2a1",
     "prev": "78e648c9-5b0c-4ede-99ec-e7579075967f",
     "regions": {
      "1d501c67-491e-43e4-91c8-85ece4ee8a90": {
       "attrs": {
        "height": 0.8,
        "width": 0.8,
        "x": 0.1,
        "y": 0.1
       },
       "content": {
        "cell": "3b1c7bc1-21cb-42fb-bad1-1e6b1f4f9096",
        "part": "whole"
       },
       "id": "1d501c67-491e-43e4-91c8-85ece4ee8a90"
      }
     }
    },
    "4c246129-7658-4a49-b08e-535665182fbb": {
     "id": "4c246129-7658-4a49-b08e-535665182fbb",
     "prev": "4a05d4b5-8af0-4165-91dc-036102cbd2a1",
     "regions": {
      "92b425c0-0a98-41cc-bfbc-b020dac97996": {
       "attrs": {
        "height": 0.8,
        "width": 0.8,
        "x": 0.1,
        "y": 0.1
       },
       "content": {
        "cell": "2be6fd13-1357-4f89-9ebf-5cbe6dfd234f",
        "part": "whole"
       },
       "id": "92b425c0-0a98-41cc-bfbc-b020dac97996"
      }
     }
    },
    "4c6fc405-fab8-4814-93ed-90aed961ed7d": {
     "id": "4c6fc405-fab8-4814-93ed-90aed961ed7d",
     "prev": "5252162f-88e0-48cc-84a9-90b30a81e00b",
     "regions": {
      "37f580a7-8944-4903-b718-8f9546d2b732": {
       "attrs": {
        "height": 0.8,
        "width": 0.8,
        "x": 0.1,
        "y": 0.1
       },
       "content": {
        "cell": "0a2e92fa-cfcc-4f19-90f6-839721698a06",
        "part": "whole"
       },
       "id": "37f580a7-8944-4903-b718-8f9546d2b732"
      }
     }
    },
    "512d37fc-e455-4879-b681-677b0710035f": {
     "id": "512d37fc-e455-4879-b681-677b0710035f",
     "prev": "b2c119ae-f591-4d85-b7cc-ab69f091934b",
     "regions": {
      "49187a3b-5521-4789-8089-115ef3a9245f": {
       "attrs": {
        "height": 0.8,
        "width": 0.8,
        "x": 0.1,
        "y": 0.1
       },
       "content": {
        "cell": "dc3d4842-0de6-43b4-a76c-030667542e06",
        "part": "whole"
       },
       "id": "49187a3b-5521-4789-8089-115ef3a9245f"
      }
     }
    },
    "5252162f-88e0-48cc-84a9-90b30a81e00b": {
     "id": "5252162f-88e0-48cc-84a9-90b30a81e00b",
     "prev": "9d2d80c2-7d57-4c64-95cc-f08b59ba3d51",
     "regions": {
      "f4c157aa-4009-4f5b-8985-0a997ac52144": {
       "attrs": {
        "height": 0.8,
        "width": 0.8,
        "x": 0.1,
        "y": 0.1
       },
       "content": {
        "cell": "cb188ecd-545d-4796-a81b-048f6d573a30",
        "part": "whole"
       },
       "id": "f4c157aa-4009-4f5b-8985-0a997ac52144"
      }
     }
    },
    "5990e9b9-e825-4a70-b4ad-fd7bcc6a8cb2": {
     "id": "5990e9b9-e825-4a70-b4ad-fd7bcc6a8cb2",
     "prev": "b43e781f-5e3f-46e1-af71-583ce1c1d0d9",
     "regions": {
      "6bcebb71-e40d-49c5-bd1d-25c65449f2e6": {
       "attrs": {
        "height": 0.8,
        "width": 0.8,
        "x": 0.1,
        "y": 0.1
       },
       "content": {
        "cell": "7d62b048-6839-4a97-b8aa-c89b8c3988f3",
        "part": "whole"
       },
       "id": "6bcebb71-e40d-49c5-bd1d-25c65449f2e6"
      }
     }
    },
    "5df705cf-5a92-48b6-be17-0cd5d526fe56": {
     "id": "5df705cf-5a92-48b6-be17-0cd5d526fe56",
     "prev": "37941bf9-ee6f-4a7e-ba87-ca822e547770",
     "regions": {
      "e95b3617-3aa6-4efb-9692-106f7d5c3b16": {
       "attrs": {
        "height": 0.8,
        "width": 0.8,
        "x": 0.1,
        "y": 0.1
       },
       "content": {
        "cell": "b643b1c3-ef28-46ae-9d84-aac1b1aeab0d",
        "part": "whole"
       },
       "id": "e95b3617-3aa6-4efb-9692-106f7d5c3b16"
      }
     }
    },
    "648e867b-7968-43ef-8e71-b373ad8318ff": {
     "id": "648e867b-7968-43ef-8e71-b373ad8318ff",
     "prev": "0b019236-a39c-49b1-8eae-2d9b208ae3bf",
     "regions": {
      "d1101372-14ea-4a11-860f-e542b3e57d02": {
       "attrs": {
        "height": 0.8,
        "width": 0.8,
        "x": 0.1,
        "y": 0.1
       },
       "content": {
        "cell": "073fe9e0-78d7-422a-b5ee-663fe5053948",
        "part": "whole"
       },
       "id": "d1101372-14ea-4a11-860f-e542b3e57d02"
      }
     }
    },
    "6a2183b0-e8fa-44ea-83a2-e4403ec0c90a": {
     "id": "6a2183b0-e8fa-44ea-83a2-e4403ec0c90a",
     "prev": "9458f892-ddc9-42c8-b408-a6c97d2d07ec",
     "regions": {
      "c609ca6e-2b6b-47d7-899b-f3efdbe7a99f": {
       "attrs": {
        "height": 0.8,
        "width": 0.8,
        "x": 0.1,
        "y": 0.1
       },
       "content": {
        "cell": "0d5a293c-dc9a-4d9a-afc6-322821d55ee9",
        "part": "whole"
       },
       "id": "c609ca6e-2b6b-47d7-899b-f3efdbe7a99f"
      }
     }
    },
    "70233891-6865-4aa4-b65e-31dfe121b43b": {
     "id": "70233891-6865-4aa4-b65e-31dfe121b43b",
     "prev": "47e4941f-b275-49d0-958a-6c84444010bd",
     "regions": {
      "dbd33c61-998d-4949-bdb7-05b41838fe9a": {
       "attrs": {
        "height": 0.8,
        "width": 0.8,
        "x": 0.1,
        "y": 0.1
       },
       "content": {
        "cell": "558cdeea-e085-4c37-83bb-826dd4fec3f2",
        "part": "whole"
       },
       "id": "dbd33c61-998d-4949-bdb7-05b41838fe9a"
      }
     }
    },
    "712853cf-d996-4589-bfaf-6b702abea933": {
     "id": "712853cf-d996-4589-bfaf-6b702abea933",
     "prev": "6a2183b0-e8fa-44ea-83a2-e4403ec0c90a",
     "regions": {
      "8f4ee27d-0f6d-430d-b0f0-f8944298888b": {
       "attrs": {
        "height": 0.8,
        "width": 0.8,
        "x": 0.1,
        "y": 0.1
       },
       "content": {
        "cell": "806c1ff5-2d65-4a1b-bac1-64cfe273fcc9",
        "part": "whole"
       },
       "id": "8f4ee27d-0f6d-430d-b0f0-f8944298888b"
      }
     }
    },
    "71fb1cd1-2fbb-440f-a16d-b89768aac332": {
     "id": "71fb1cd1-2fbb-440f-a16d-b89768aac332",
     "prev": "91ae2ed8-17e9-4ecf-bfcc-47611a0805a3",
     "regions": {
      "e3b2bc03-3448-453c-b4b7-1519a39c9b54": {
       "attrs": {
        "height": 0.8,
        "width": 0.8,
        "x": 0.1,
        "y": 0.1
       },
       "content": {
        "cell": "19e57560-0d52-406e-84fe-e435f9865c46",
        "part": "whole"
       },
       "id": "e3b2bc03-3448-453c-b4b7-1519a39c9b54"
      }
     }
    },
    "77d94bc1-b724-4eee-9281-abf44d4791ee": {
     "id": "77d94bc1-b724-4eee-9281-abf44d4791ee",
     "prev": "18e957ae-8d01-494f-89e1-c0bb9c5b3c8c",
     "regions": {
      "0b791910-a470-42fb-b5c3-649df81aa9b7": {
       "attrs": {
        "height": 0.8,
        "width": 0.8,
        "x": 0.1,
        "y": 0.1
       },
       "content": {
        "cell": "f206f3db-9023-4f63-9338-b5d507515d94",
        "part": "whole"
       },
       "id": "0b791910-a470-42fb-b5c3-649df81aa9b7"
      }
     }
    },
    "78e648c9-5b0c-4ede-99ec-e7579075967f": {
     "id": "78e648c9-5b0c-4ede-99ec-e7579075967f",
     "prev": "9fc79a61-9d87-4d95-a5d3-6b5390b37297",
     "regions": {
      "467c7dee-cb7c-41e7-8bde-1cf06852c577": {
       "attrs": {
        "height": 0.8,
        "width": 0.8,
        "x": 0.1,
        "y": 0.1
       },
       "content": {
        "cell": "50d81896-8ecf-4822-8276-b5aa99c36d57",
        "part": "whole"
       },
       "id": "467c7dee-cb7c-41e7-8bde-1cf06852c577"
      }
     }
    },
    "8199be1f-c7e8-4605-a80e-f90eab6a5ff0": {
     "id": "8199be1f-c7e8-4605-a80e-f90eab6a5ff0",
     "prev": "648e867b-7968-43ef-8e71-b373ad8318ff",
     "regions": {
      "90402604-22cc-4070-8459-413ecf43626c": {
       "attrs": {
        "height": 0.8,
        "width": 0.8,
        "x": 0.1,
        "y": 0.1
       },
       "content": {
        "cell": "f9a220c7-6094-4d95-87c1-ecdc6fb5ff55",
        "part": "whole"
       },
       "id": "90402604-22cc-4070-8459-413ecf43626c"
      }
     }
    },
    "8a541c96-bea0-4b8d-b9c5-2f8058c9fd0b": {
     "id": "8a541c96-bea0-4b8d-b9c5-2f8058c9fd0b",
     "prev": "ab183bd4-2087-481d-95c1-7544783dcca0",
     "regions": {
      "90437729-01e5-4c6a-a451-bf31cc6daab0": {
       "attrs": {
        "height": 0.8,
        "width": 0.8,
        "x": 0.1,
        "y": 0.1
       },
       "content": {
        "cell": "fbfa15e3-90b0-45dc-8aeb-28d233958800",
        "part": "whole"
       },
       "id": "90437729-01e5-4c6a-a451-bf31cc6daab0"
      }
     }
    },
    "8a7ba1ef-3aeb-42fb-a138-c2a298db7925": {
     "id": "8a7ba1ef-3aeb-42fb-a138-c2a298db7925",
     "prev": "dec2873c-24d6-4c8d-9f0e-56412ecd0ffe",
     "regions": {
      "9590b7a5-66de-46af-bf67-a1b4799facf2": {
       "attrs": {
        "height": 0.8,
        "width": 0.8,
        "x": 0.1,
        "y": 0.1
       },
       "content": {
        "cell": "83792966-5b1b-45f9-9bbd-b522d28335c9",
        "part": "whole"
       },
       "id": "9590b7a5-66de-46af-bf67-a1b4799facf2"
      }
     }
    },
    "91ae2ed8-17e9-4ecf-bfcc-47611a0805a3": {
     "id": "91ae2ed8-17e9-4ecf-bfcc-47611a0805a3",
     "prev": "da57f76a-44a3-4121-9811-6185b713a5ea",
     "regions": {
      "c7a559ff-0f37-4f0f-8026-55029f14a5b5": {
       "attrs": {
        "height": 0.8,
        "width": 0.8,
        "x": 0.1,
        "y": 0.1
       },
       "content": {
        "cell": "0203843b-1c37-4e0d-9618-a1e143a2775f",
        "part": "whole"
       },
       "id": "c7a559ff-0f37-4f0f-8026-55029f14a5b5"
      }
     }
    },
    "92b18656-fe18-4bdb-92eb-5188951631eb": {
     "id": "92b18656-fe18-4bdb-92eb-5188951631eb",
     "prev": "c6e5928d-7fe3-4ecb-ad58-e6a862c556d7",
     "regions": {
      "1f59f096-f53f-493e-bbba-154126b1e746": {
       "attrs": {
        "height": 0.8,
        "width": 0.8,
        "x": 0.1,
        "y": 0.1
       },
       "content": {
        "cell": "db05dadd-6093-4adc-8696-bd021c74c983",
        "part": "whole"
       },
       "id": "1f59f096-f53f-493e-bbba-154126b1e746"
      }
     }
    },
    "93c7cb00-544d-42a1-bbe6-eb8ce55a104b": {
     "id": "93c7cb00-544d-42a1-bbe6-eb8ce55a104b",
     "prev": "d1af950a-70d7-4e0e-8b0a-5d6c7da15e4f",
     "regions": {
      "73b1a0cf-4355-4ee9-b8d1-116b046cbf51": {
       "attrs": {
        "height": 0.8,
        "width": 0.8,
        "x": 0.1,
        "y": 0.1
       },
       "content": {
        "cell": "fb744316-e165-4c0e-8d33-5446848e1022",
        "part": "whole"
       },
       "id": "73b1a0cf-4355-4ee9-b8d1-116b046cbf51"
      }
     }
    },
    "9458f892-ddc9-42c8-b408-a6c97d2d07ec": {
     "id": "9458f892-ddc9-42c8-b408-a6c97d2d07ec",
     "prev": "fcd50f97-6d44-4321-b1c5-5b2479d4c7e7",
     "regions": {
      "bb03f370-7c5a-4f31-ab52-4994a4d6ecab": {
       "attrs": {
        "height": 0.8,
        "width": 0.8,
        "x": 0.1,
        "y": 0.1
       },
       "content": {
        "cell": "6e9a9a44-95de-4296-a9e7-b55898efd832",
        "part": "whole"
       },
       "id": "bb03f370-7c5a-4f31-ab52-4994a4d6ecab"
      }
     }
    },
    "97b0d3c6-3d95-418e-8475-dd73e4c6a4bf": {
     "id": "97b0d3c6-3d95-418e-8475-dd73e4c6a4bf",
     "prev": "9c064532-dde5-4d85-8767-a30092a18e60",
     "regions": {
      "85a4569b-e4c8-4820-94ea-c3de8c3cfd31": {
       "attrs": {
        "height": 0.8,
        "width": 0.8,
        "x": 0.1,
        "y": 0.1
       },
       "content": {
        "cell": "d12eefac-3c58-4b4f-9f47-d0d36a4b50a0",
        "part": "whole"
       },
       "id": "85a4569b-e4c8-4820-94ea-c3de8c3cfd31"
      }
     }
    },
    "9a8d6cf9-a719-469c-bf9e-ed1e2d8cf097": {
     "id": "9a8d6cf9-a719-469c-bf9e-ed1e2d8cf097",
     "prev": "1f8a230f-9bfb-4e93-8596-f944a0dc9916",
     "regions": {
      "3ce41cd8-25e7-4881-a3a6-8f279f52865d": {
       "attrs": {
        "height": 0.8,
        "width": 0.8,
        "x": 0.1,
        "y": 0.1
       },
       "content": {
        "cell": "5a801160-d427-4ee9-9a0a-035beefa82f8",
        "part": "whole"
       },
       "id": "3ce41cd8-25e7-4881-a3a6-8f279f52865d"
      }
     }
    },
    "9aaa27c4-caa0-45f1-bd8e-d61544341e09": {
     "id": "9aaa27c4-caa0-45f1-bd8e-d61544341e09",
     "prev": "71fb1cd1-2fbb-440f-a16d-b89768aac332",
     "regions": {
      "6ee990c0-008e-4c9f-a7b8-e6015d5313c8": {
       "attrs": {
        "height": 0.8,
        "width": 0.8,
        "x": 0.1,
        "y": 0.1
       },
       "content": {
        "cell": "306b71f0-76fb-4c5b-8f26-58d79c3ba698",
        "part": "whole"
       },
       "id": "6ee990c0-008e-4c9f-a7b8-e6015d5313c8"
      }
     }
    },
    "9c064532-dde5-4d85-8767-a30092a18e60": {
     "id": "9c064532-dde5-4d85-8767-a30092a18e60",
     "prev": "d400533e-df9e-4dd0-9061-3f13aac44603",
     "regions": {
      "befcbcf2-7e52-4935-8604-fa39474362af": {
       "attrs": {
        "height": 0.8,
        "width": 0.8,
        "x": 0.1,
        "y": 0.1
       },
       "content": {
        "cell": "19823d0c-959e-4bb0-9fd6-aa065280f628",
        "part": "whole"
       },
       "id": "befcbcf2-7e52-4935-8604-fa39474362af"
      }
     }
    },
    "9d2d80c2-7d57-4c64-95cc-f08b59ba3d51": {
     "id": "9d2d80c2-7d57-4c64-95cc-f08b59ba3d51",
     "prev": "39405c20-5760-41d0-ad7d-e932158512da",
     "regions": {
      "24b95977-cd10-4bb0-9112-f12b49e71a06": {
       "attrs": {
        "height": 0.8,
        "width": 0.8,
        "x": 0.1,
        "y": 0.1
       },
       "content": {
        "cell": "2fbc7a76-71fc-4668-85de-32f495573b26",
        "part": "whole"
       },
       "id": "24b95977-cd10-4bb0-9112-f12b49e71a06"
      }
     }
    },
    "9fc79a61-9d87-4d95-a5d3-6b5390b37297": {
     "id": "9fc79a61-9d87-4d95-a5d3-6b5390b37297",
     "prev": "a200947b-aede-4158-859e-9fd65e567264",
     "regions": {
      "af1d8ff9-4e7e-4991-93b3-35ae9fb5a57f": {
       "attrs": {
        "height": 0.8,
        "width": 0.8,
        "x": 0.1,
        "y": 0.1
       },
       "content": {
        "cell": "d6d0cb43-036d-49bb-a20f-fdefe1f9fa0f",
        "part": "whole"
       },
       "id": "af1d8ff9-4e7e-4991-93b3-35ae9fb5a57f"
      }
     }
    },
    "a070341a-8f14-4259-bf0c-f7f5b24e79de": {
     "id": "a070341a-8f14-4259-bf0c-f7f5b24e79de",
     "prev": "a92adfa0-fc89-453e-9e0a-5adf1432e957",
     "regions": {
      "ebda97a9-7f4e-446a-b2f5-6b31afe4b6dc": {
       "attrs": {
        "height": 0.8,
        "width": 0.8,
        "x": 0.1,
        "y": 0.1
       },
       "content": {
        "cell": "5e36f5e4-97b3-458d-ba80-19cab5bbfc27",
        "part": "whole"
       },
       "id": "ebda97a9-7f4e-446a-b2f5-6b31afe4b6dc"
      }
     }
    },
    "a200947b-aede-4158-859e-9fd65e567264": {
     "id": "a200947b-aede-4158-859e-9fd65e567264",
     "prev": "97b0d3c6-3d95-418e-8475-dd73e4c6a4bf",
     "regions": {
      "b1b19ab4-9b6e-4514-9564-3dfc15db2fec": {
       "attrs": {
        "height": 0.8,
        "width": 0.8,
        "x": 0.1,
        "y": 0.1
       },
       "content": {
        "cell": "3318b590-e658-45c8-822c-cd7079ba22e8",
        "part": "whole"
       },
       "id": "b1b19ab4-9b6e-4514-9564-3dfc15db2fec"
      }
     }
    },
    "a595325c-b2b1-421b-97a8-df671a5359e0": {
     "id": "a595325c-b2b1-421b-97a8-df671a5359e0",
     "prev": "091c9431-5416-4b31-902b-c0d478bbf648",
     "regions": {
      "57d83195-6762-4faf-9f25-40992616aa28": {
       "attrs": {
        "height": 0.8,
        "width": 0.8,
        "x": 0.1,
        "y": 0.1
       },
       "content": {
        "cell": "a27f7a5a-a671-4824-98ea-623a343cb380",
        "part": "whole"
       },
       "id": "57d83195-6762-4faf-9f25-40992616aa28"
      }
     }
    },
    "a6be71cb-4f7a-48bd-9086-2c6af9781fcd": {
     "id": "a6be71cb-4f7a-48bd-9086-2c6af9781fcd",
     "prev": "4c246129-7658-4a49-b08e-535665182fbb",
     "regions": {
      "14a4a403-8374-4b94-acd5-660fb432d4a8": {
       "attrs": {
        "height": 0.8,
        "width": 0.8,
        "x": 0.1,
        "y": 0.1
       },
       "content": {
        "cell": "fb00462b-4dd6-4d08-ac25-2a71ce8642d8",
        "part": "whole"
       },
       "id": "14a4a403-8374-4b94-acd5-660fb432d4a8"
      }
     }
    },
    "a82b102b-37bd-41e5-a825-6fc01ad414ea": {
     "id": "a82b102b-37bd-41e5-a825-6fc01ad414ea",
     "prev": "a070341a-8f14-4259-bf0c-f7f5b24e79de",
     "regions": {
      "d667a711-685f-4de6-8e25-1a52d4a80d7d": {
       "attrs": {
        "height": 0.8,
        "width": 0.8,
        "x": 0.1,
        "y": 0.1
       },
       "content": {
        "cell": "8373b598-b3b9-4291-9774-a0d65a2de007",
        "part": "whole"
       },
       "id": "d667a711-685f-4de6-8e25-1a52d4a80d7d"
      }
     }
    },
    "a92adfa0-fc89-453e-9e0a-5adf1432e957": {
     "id": "a92adfa0-fc89-453e-9e0a-5adf1432e957",
     "prev": "3541b6fb-16e2-4048-a33f-a6a9dca73c84",
     "regions": {
      "d71966df-71f6-4b6a-a750-9e56301f2af4": {
       "attrs": {
        "height": 0.8,
        "width": 0.8,
        "x": 0.1,
        "y": 0.1
       },
       "content": {
        "cell": "627c6aa5-b1f0-492b-ae5e-2eec065f9e96",
        "part": "whole"
       },
       "id": "d71966df-71f6-4b6a-a750-9e56301f2af4"
      }
     }
    },
    "a9ce1745-d4c7-4d79-9c0d-c61807c2679d": {
     "id": "a9ce1745-d4c7-4d79-9c0d-c61807c2679d",
     "prev": "46d2cd31-0381-4e80-a8e3-e76a0093bea3",
     "regions": {
      "103d7f09-e0d3-4207-bcf3-2e2c548afc60": {
       "attrs": {
        "height": 0.8,
        "width": 0.8,
        "x": 0.1,
        "y": 0.1
       },
       "content": {
        "cell": "df001ac5-ad6f-4abb-afe2-a227d938c0a1",
        "part": "whole"
       },
       "id": "103d7f09-e0d3-4207-bcf3-2e2c548afc60"
      }
     }
    },
    "ab183bd4-2087-481d-95c1-7544783dcca0": {
     "id": "ab183bd4-2087-481d-95c1-7544783dcca0",
     "prev": null,
     "regions": {
      "218bcb06-dea4-4e6c-8c9e-47ee022d9aba": {
       "attrs": {
        "height": 0.8,
        "width": 0.8,
        "x": 0.1,
        "y": 0.1
       },
       "content": {
        "cell": "c8731419-f4c0-457e-a4e7-90252d5c164a",
        "part": "whole"
       },
       "id": "218bcb06-dea4-4e6c-8c9e-47ee022d9aba"
      }
     }
    },
    "ad85b78b-9bd8-4ef1-8e87-37cf95c6ccd1": {
     "id": "ad85b78b-9bd8-4ef1-8e87-37cf95c6ccd1",
     "prev": "2987e522-ae76-4005-bb83-1a4746cf8016",
     "regions": {
      "cf9c1ee3-0a3c-4b7a-b742-fced5e09f4fe": {
       "attrs": {
        "height": 0.8,
        "width": 0.8,
        "x": 0.1,
        "y": 0.1
       },
       "content": {
        "cell": "3b1d44ff-f444-483b-b2bc-c0b0aebcffd9",
        "part": "whole"
       },
       "id": "cf9c1ee3-0a3c-4b7a-b742-fced5e09f4fe"
      }
     }
    },
    "b1fe59df-95ca-43de-9bc2-cdc34c2a968e": {
     "id": "b1fe59df-95ca-43de-9bc2-cdc34c2a968e",
     "prev": "3519a7dd-c633-46ad-8ffb-625736178c20",
     "regions": {
      "1225058f-4666-4a45-9bd6-d57746568099": {
       "attrs": {
        "height": 0.8,
        "width": 0.8,
        "x": 0.1,
        "y": 0.1
       },
       "content": {
        "cell": "440c1ded-3d60-4441-8487-071199727135",
        "part": "whole"
       },
       "id": "1225058f-4666-4a45-9bd6-d57746568099"
      }
     }
    },
    "b2c119ae-f591-4d85-b7cc-ab69f091934b": {
     "id": "b2c119ae-f591-4d85-b7cc-ab69f091934b",
     "prev": "e0363f9c-60b3-4e17-8d5d-4574327d2d4c",
     "regions": {
      "3039b62d-3f73-4410-acf5-247324db99f9": {
       "attrs": {
        "height": 0.8,
        "width": 0.8,
        "x": 0.1,
        "y": 0.1
       },
       "content": {
        "cell": "83f4650a-3185-4ca5-a65b-a6740fa89769",
        "part": "whole"
       },
       "id": "3039b62d-3f73-4410-acf5-247324db99f9"
      }
     }
    },
    "b43e781f-5e3f-46e1-af71-583ce1c1d0d9": {
     "id": "b43e781f-5e3f-46e1-af71-583ce1c1d0d9",
     "prev": "0117ec84-5796-46bd-be9e-fe5dea0a222d",
     "regions": {
      "fc1f9615-d990-47e6-9edd-cbddaabb9e60": {
       "attrs": {
        "height": 0.8,
        "width": 0.8,
        "x": 0.1,
        "y": 0.1
       },
       "content": {
        "cell": "cf593ffd-d48b-4c09-8573-c0553c28354e",
        "part": "whole"
       },
       "id": "fc1f9615-d990-47e6-9edd-cbddaabb9e60"
      }
     }
    },
    "b6b8af83-bacb-4063-83f9-6fa5034368d5": {
     "id": "b6b8af83-bacb-4063-83f9-6fa5034368d5",
     "prev": "34f73d7f-0844-4fb3-8dfe-b6d8503caf02",
     "regions": {
      "e625e3db-72d2-4cf0-8ca3-6da966eea138": {
       "attrs": {
        "height": 0.8,
        "width": 0.8,
        "x": 0.1,
        "y": 0.1
       },
       "content": {
        "cell": "a295c888-4226-488f-a392-5585bb2d6666",
        "part": "whole"
       },
       "id": "e625e3db-72d2-4cf0-8ca3-6da966eea138"
      }
     }
    },
    "be643010-0385-4024-908f-a5b0e0587ea6": {
     "id": "be643010-0385-4024-908f-a5b0e0587ea6",
     "prev": "2b751618-de39-482d-8cae-0b4c4a85aa5f",
     "regions": {
      "2f115da6-a92e-4aad-8d0b-7092588435d2": {
       "attrs": {
        "height": 0.8,
        "width": 0.8,
        "x": 0.1,
        "y": 0.1
       },
       "content": {
        "cell": "4fa2bbc5-c468-4ac8-a141-ccf0dab484b7",
        "part": "whole"
       },
       "id": "2f115da6-a92e-4aad-8d0b-7092588435d2"
      }
     }
    },
    "c205474a-4080-43a0-accf-7b8893f140fa": {
     "id": "c205474a-4080-43a0-accf-7b8893f140fa",
     "prev": "329b2242-63ea-41f4-8a10-618ebd9f3803",
     "regions": {
      "b0a295f4-7f12-423f-91cb-4a7fd1814ffa": {
       "attrs": {
        "height": 0.8,
        "width": 0.8,
        "x": 0.1,
        "y": 0.1
       },
       "content": {
        "cell": "a8eda6b3-c70a-46ca-b114-a741952a5af8",
        "part": "whole"
       },
       "id": "b0a295f4-7f12-423f-91cb-4a7fd1814ffa"
      }
     }
    },
    "c6e5928d-7fe3-4ecb-ad58-e6a862c556d7": {
     "id": "c6e5928d-7fe3-4ecb-ad58-e6a862c556d7",
     "prev": "02cbbe91-50ff-4c4a-b1fa-2f97d574b513",
     "regions": {
      "8dc9daab-319a-41ea-ac17-81e81f4d63e4": {
       "attrs": {
        "height": 0.8,
        "width": 0.8,
        "x": 0.1,
        "y": 0.1
       },
       "content": {
        "cell": "18f5ad7d-941b-4d48-a18c-3a82a1f2addc",
        "part": "whole"
       },
       "id": "8dc9daab-319a-41ea-ac17-81e81f4d63e4"
      }
     }
    },
    "d1af950a-70d7-4e0e-8b0a-5d6c7da15e4f": {
     "id": "d1af950a-70d7-4e0e-8b0a-5d6c7da15e4f",
     "prev": "77d94bc1-b724-4eee-9281-abf44d4791ee",
     "regions": {
      "30e4fa90-d097-41a3-b674-39a9e465f956": {
       "attrs": {
        "height": 0.8,
        "width": 0.8,
        "x": 0.1,
        "y": 0.1
       },
       "content": {
        "cell": "0ca25932-b3bb-4b2f-be9d-c88b7a076682",
        "part": "whole"
       },
       "id": "30e4fa90-d097-41a3-b674-39a9e465f956"
      }
     }
    },
    "d400533e-df9e-4dd0-9061-3f13aac44603": {
     "id": "d400533e-df9e-4dd0-9061-3f13aac44603",
     "prev": "2af61966-09b4-427b-bed8-cf76d955254a",
     "regions": {
      "2cb04d1f-46ea-4e29-9228-c72fce248d3f": {
       "attrs": {
        "height": 0.8,
        "width": 0.8,
        "x": 0.1,
        "y": 0.1
       },
       "content": {
        "cell": "c8809bdf-29fe-4ae8-9bae-4a483eeb4164",
        "part": "whole"
       },
       "id": "2cb04d1f-46ea-4e29-9228-c72fce248d3f"
      }
     }
    },
    "d68a3ff2-b1bd-44d3-9a0d-0bdd425abbf9": {
     "id": "d68a3ff2-b1bd-44d3-9a0d-0bdd425abbf9",
     "prev": "dfeb3f1a-30cd-4eef-92d7-47dabd32ae77",
     "regions": {
      "0145e2b1-98b4-4a60-9833-8bb081b52b43": {
       "attrs": {
        "height": 0.8,
        "width": 0.8,
        "x": 0.1,
        "y": 0.1
       },
       "content": {
        "cell": "c82a0079-1845-422c-9e24-7092b660fbb6",
        "part": "whole"
       },
       "id": "0145e2b1-98b4-4a60-9833-8bb081b52b43"
      }
     }
    },
    "d73abb4d-aba6-49b4-922e-399df24ff027": {
     "id": "d73abb4d-aba6-49b4-922e-399df24ff027",
     "prev": "93c7cb00-544d-42a1-bbe6-eb8ce55a104b",
     "regions": {
      "368f7299-c2ce-4d35-bdd3-910e675297ce": {
       "attrs": {
        "height": 0.8,
        "width": 0.8,
        "x": 0.1,
        "y": 0.1
       },
       "content": {
        "cell": "db36f6fd-2cdd-4156-bb97-ae9e4f00c504",
        "part": "whole"
       },
       "id": "368f7299-c2ce-4d35-bdd3-910e675297ce"
      }
     }
    },
    "d77cfea1-9a2d-49c8-a1b1-1705eda07efe": {
     "id": "d77cfea1-9a2d-49c8-a1b1-1705eda07efe",
     "prev": "e838ef53-70b7-46e3-acb4-7f9f56c19ca9",
     "regions": {
      "701c23ee-eaa6-42cd-9864-e30fca58be0e": {
       "attrs": {
        "height": 0.8,
        "width": 0.8,
        "x": 0.1,
        "y": 0.1
       },
       "content": {
        "cell": "bb202bf7-7216-45be-867c-156e8fa68683",
        "part": "whole"
       },
       "id": "701c23ee-eaa6-42cd-9864-e30fca58be0e"
      }
     }
    },
    "da57f76a-44a3-4121-9811-6185b713a5ea": {
     "id": "da57f76a-44a3-4121-9811-6185b713a5ea",
     "prev": "70233891-6865-4aa4-b65e-31dfe121b43b",
     "regions": {
      "41e6e66c-f009-4b3a-8e17-3ca76a14bd24": {
       "attrs": {
        "height": 0.8,
        "width": 0.8,
        "x": 0.1,
        "y": 0.1
       },
       "content": {
        "cell": "3e748a37-029e-4153-b05b-c3ce16dc6adb",
        "part": "whole"
       },
       "id": "41e6e66c-f009-4b3a-8e17-3ca76a14bd24"
      }
     }
    },
    "dec2873c-24d6-4c8d-9f0e-56412ecd0ffe": {
     "id": "dec2873c-24d6-4c8d-9f0e-56412ecd0ffe",
     "prev": "354b81dc-4396-4f3b-bf04-5c4058c300c3",
     "regions": {
      "9a1bc5c8-7d25-49ff-9f96-2baa34e3c4b5": {
       "attrs": {
        "height": 0.8,
        "width": 0.8,
        "x": 0.1,
        "y": 0.1
       },
       "content": {
        "cell": "121b3e44-5989-48ea-912c-9cc12843e19e",
        "part": "whole"
       },
       "id": "9a1bc5c8-7d25-49ff-9f96-2baa34e3c4b5"
      }
     }
    },
    "dfeb3f1a-30cd-4eef-92d7-47dabd32ae77": {
     "id": "dfeb3f1a-30cd-4eef-92d7-47dabd32ae77",
     "prev": "26e31768-ea20-4fa8-9031-e16efc6d37fa",
     "regions": {
      "e9e5509d-6cc0-406a-b9c6-5308f455587e": {
       "attrs": {
        "height": 0.8,
        "width": 0.8,
        "x": 0.1,
        "y": 0.1
       },
       "content": {
        "cell": "c319cc35-c1c6-47c5-8f94-e03e1ffdce74",
        "part": "whole"
       },
       "id": "e9e5509d-6cc0-406a-b9c6-5308f455587e"
      }
     }
    },
    "e0363f9c-60b3-4e17-8d5d-4574327d2d4c": {
     "id": "e0363f9c-60b3-4e17-8d5d-4574327d2d4c",
     "prev": "2591504b-9391-483f-acac-8aad2959210b",
     "regions": {
      "f36912c0-6a6f-4db0-a328-f5ed69cef1e4": {
       "attrs": {
        "height": 0.8,
        "width": 0.8,
        "x": 0.1,
        "y": 0.1
       },
       "content": {
        "cell": "5166bd11-7ae1-4fdf-a9e9-ec22ea76386b",
        "part": "whole"
       },
       "id": "f36912c0-6a6f-4db0-a328-f5ed69cef1e4"
      }
     }
    },
    "e2289dfa-211c-4afe-8313-2b75bacba546": {
     "id": "e2289dfa-211c-4afe-8313-2b75bacba546",
     "prev": "f808266b-16b6-48b5-aff1-9fd3de908b9e",
     "regions": {
      "94b9be31-8f53-490f-8c85-0e274abe4274": {
       "attrs": {
        "height": 0.8,
        "width": 0.8,
        "x": 0.1,
        "y": 0.1
       },
       "content": {
        "cell": "5a686dce-3a81-4191-a0c1-61b4fa2a3124",
        "part": "whole"
       },
       "id": "94b9be31-8f53-490f-8c85-0e274abe4274"
      }
     }
    },
    "e838ef53-70b7-46e3-acb4-7f9f56c19ca9": {
     "id": "e838ef53-70b7-46e3-acb4-7f9f56c19ca9",
     "prev": "8199be1f-c7e8-4605-a80e-f90eab6a5ff0",
     "regions": {
      "f6dbb49e-33ee-487a-8d04-747eaedd61ec": {
       "attrs": {
        "height": 0.8,
        "width": 0.8,
        "x": 0.1,
        "y": 0.1
       },
       "content": {
        "cell": "6a1fe4ac-551a-4697-beb2-ae75629b84d9",
        "part": "whole"
       },
       "id": "f6dbb49e-33ee-487a-8d04-747eaedd61ec"
      }
     }
    },
    "f4dc8ccd-91ca-44d8-8bb4-4008e6d5fc6b": {
     "id": "f4dc8ccd-91ca-44d8-8bb4-4008e6d5fc6b",
     "prev": "a82b102b-37bd-41e5-a825-6fc01ad414ea",
     "regions": {
      "4851cc21-b013-4702-8b02-4c821a8fd6d2": {
       "attrs": {
        "height": 0.8,
        "width": 0.8,
        "x": 0.1,
        "y": 0.1
       },
       "content": {
        "cell": "f3f03379-c184-40e3-8d9c-95e25355618d",
        "part": "whole"
       },
       "id": "4851cc21-b013-4702-8b02-4c821a8fd6d2"
      }
     }
    },
    "f808266b-16b6-48b5-aff1-9fd3de908b9e": {
     "id": "f808266b-16b6-48b5-aff1-9fd3de908b9e",
     "prev": "9a8d6cf9-a719-469c-bf9e-ed1e2d8cf097",
     "regions": {
      "cb858819-a7d2-41fd-9e74-9e60bd845222": {
       "attrs": {
        "height": 0.8,
        "width": 0.8,
        "x": 0.1,
        "y": 0.1
       },
       "content": {
        "cell": "871f3c76-c2d1-465c-b472-94563eab7a77",
        "part": "whole"
       },
       "id": "cb858819-a7d2-41fd-9e74-9e60bd845222"
      }
     }
    },
    "fcd50f97-6d44-4321-b1c5-5b2479d4c7e7": {
     "id": "fcd50f97-6d44-4321-b1c5-5b2479d4c7e7",
     "prev": "8a541c96-bea0-4b8d-b9c5-2f8058c9fd0b",
     "regions": {
      "d8ab9c6a-4479-4c62-85a6-74d38845f0c5": {
       "attrs": {
        "height": 0.8,
        "width": 0.8,
        "x": 0.1,
        "y": 0.1
       },
       "content": {
        "cell": "0bb678f4-5396-4a8d-86d5-6176c1228316",
        "part": "whole"
       },
       "id": "d8ab9c6a-4479-4c62-85a6-74d38845f0c5"
      }
     }
    },
    "fffcd5fe-37e5-4fe7-aefa-2369a41f5a52": {
     "id": "fffcd5fe-37e5-4fe7-aefa-2369a41f5a52",
     "prev": "a9ce1745-d4c7-4d79-9c0d-c61807c2679d",
     "regions": {
      "d1f32e7b-0fd6-41cf-a8d3-030351e1e059": {
       "attrs": {
        "height": 0.8,
        "width": 0.8,
        "x": 0.1,
        "y": 0.1
       },
       "content": {
        "cell": "46ac2342-9bc0-453c-8bc0-802de0e4efb8",
        "part": "whole"
       },
       "id": "d1f32e7b-0fd6-41cf-a8d3-030351e1e059"
      }
     }
    }
   },
   "themes": {
    "default": "9129f7ac-533b-42b7-8454-7dff2689d7f1",
    "theme": {
     "9129f7ac-533b-42b7-8454-7dff2689d7f1": {
      "id": "9129f7ac-533b-42b7-8454-7dff2689d7f1",
      "palette": {
       "19cc588f-0593-49c9-9f4b-e4d7cc113b1c": {
        "id": "19cc588f-0593-49c9-9f4b-e4d7cc113b1c",
        "rgb": [
         252,
         252,
         252
        ]
       },
       "31af15d2-7e15-44c5-ab5e-e04b16a89eff": {
        "id": "31af15d2-7e15-44c5-ab5e-e04b16a89eff",
        "rgb": [
         68,
         68,
         68
        ]
       },
       "50f92c45-a630-455b-aec3-788680ec7410": {
        "id": "50f92c45-a630-455b-aec3-788680ec7410",
        "rgb": [
         155,
         177,
         192
        ]
       },
       "c5cc3653-2ee1-402a-aba2-7caae1da4f6c": {
        "id": "c5cc3653-2ee1-402a-aba2-7caae1da4f6c",
        "rgb": [
         43,
         126,
         184
        ]
       },
       "efa7f048-9acb-414c-8b04-a26811511a21": {
        "id": "efa7f048-9acb-414c-8b04-a26811511a21",
        "rgb": [
         25.118061674008803,
         73.60176211453744,
         107.4819383259912
        ]
       }
      },
      "rules": {
       "blockquote": {
        "color": "50f92c45-a630-455b-aec3-788680ec7410"
       },
       "code": {
        "font-family": "Anonymous Pro"
       },
       "h1": {
        "color": "c5cc3653-2ee1-402a-aba2-7caae1da4f6c",
        "font-family": "Lato",
        "font-size": 8
       },
       "h2": {
        "color": "c5cc3653-2ee1-402a-aba2-7caae1da4f6c",
        "font-family": "Lato",
        "font-size": 6
       },
       "h3": {
        "color": "50f92c45-a630-455b-aec3-788680ec7410",
        "font-family": "Lato",
        "font-size": 5.5
       },
       "h4": {
        "color": "c5cc3653-2ee1-402a-aba2-7caae1da4f6c",
        "font-family": "Lato",
        "font-size": 5
       },
       "h5": {
        "font-family": "Lato"
       },
       "h6": {
        "font-family": "Lato"
       },
       "h7": {
        "font-family": "Lato"
       },
       "pre": {
        "font-family": "Anonymous Pro",
        "font-size": 4
       }
      },
      "text-base": {
       "font-family": "Merriweather",
       "font-size": 4
      }
     }
    }
   }
  }
 },
 "nbformat": 4,
 "nbformat_minor": 1
}
