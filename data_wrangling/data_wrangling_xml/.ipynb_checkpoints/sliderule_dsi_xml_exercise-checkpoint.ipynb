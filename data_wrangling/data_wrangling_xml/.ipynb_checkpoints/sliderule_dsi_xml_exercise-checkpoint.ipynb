{
 "cells": [
  {
   "cell_type": "markdown",
   "metadata": {},
   "source": [
    "# XML example and exercise\n",
    "****\n",
    "+ study examples of accessing nodes in XML tree structure  \n",
    "+ work on exercise to be completed and submitted\n",
    "****\n",
    "+ reference: https://docs.python.org/2.7/library/xml.etree.elementtree.html\n",
    "+ data source: http://www.dbis.informatik.uni-goettingen.de/Mondial\n",
    "****"
   ]
  },
  {
   "cell_type": "code",
   "execution_count": 1,
   "metadata": {
    "collapsed": true
   },
   "outputs": [],
   "source": [
    "from xml.etree import ElementTree as ET"
   ]
  },
  {
   "cell_type": "markdown",
   "metadata": {},
   "source": [
    "## XML example\n",
    "\n",
    "+ for details about tree traversal and iterators, see https://docs.python.org/2.7/library/xml.etree.elementtree.html"
   ]
  },
  {
   "cell_type": "code",
   "execution_count": 2,
   "metadata": {
    "collapsed": false
   },
   "outputs": [],
   "source": [
    "document_tree = ET.parse( './data/mondial_database_less.xml' )\n",
    "root = document_tree.getroot()"
   ]
  },
  {
   "cell_type": "code",
   "execution_count": 3,
   "metadata": {
    "collapsed": false
   },
   "outputs": [
    {
     "name": "stdout",
     "output_type": "stream",
     "text": [
      "Albania\n",
      "Greece\n",
      "Macedonia\n",
      "Serbia\n",
      "Montenegro\n",
      "Kosovo\n",
      "Andorra\n"
     ]
    }
   ],
   "source": [
    "# print names of all countries\n",
    "for child in document_tree.getroot():\n",
    "    print (child.find('name').text)"
   ]
  },
  {
   "cell_type": "code",
   "execution_count": 4,
   "metadata": {
    "collapsed": false
   },
   "outputs": [
    {
     "name": "stdout",
     "output_type": "stream",
     "text": [
      "* Albania:\n",
      "Tirana, Shkodër, Durrës, Vlorë, Elbasan, Korçë\n",
      "* Greece:\n",
      "Komotini, Kavala, Athina, Peiraias, Peristeri, Acharnes, Patra, Kozani, Kerkyra, Ioannina, Thessaloniki, Iraklio, Chania, Ermoupoli, Rhodes, Tripoli, Lamia, Chalkida, Larissa, Volos, Mytilini, Karyes\n",
      "* Macedonia:\n",
      "Skopje, Kumanovo\n",
      "* Serbia:\n",
      "Beograd, Novi Sad, Niš\n",
      "* Montenegro:\n",
      "Podgorica\n",
      "* Kosovo:\n",
      "Prishtine\n",
      "* Andorra:\n",
      "Andorra la Vella\n"
     ]
    }
   ],
   "source": [
    "# print names of all countries and their cities\n",
    "for element in document_tree.iterfind('country'):\n",
    "    print ('* ' + element.find('name').text + ':'),\n",
    "    capitals_string = ''\n",
    "    for subelement in element.getiterator('city'):\n",
    "        capitals_string += subelement.find('name').text + ', '\n",
    "    print (capitals_string[:-2])"
   ]
  },
  {
   "cell_type": "code",
   "execution_count": 5,
   "metadata": {
    "collapsed": false
   },
   "outputs": [],
   "source": [
    "root = document_tree.getroot()"
   ]
  },
  {
   "cell_type": "markdown",
   "metadata": {},
   "source": [
    "****\n",
    "## XML exercise\n",
    "\n",
    "Using data in 'data/mondial_database.xml', the examples above, and refering to https://docs.python.org/2.7/library/xml.etree.elementtree.html, find\n",
    "\n",
    "1. 10 countries with the lowest infant mortality rates\n",
    "2. 10 cities with the largest population\n",
    "3. 10 ethnic groups with the largest overall populations (sum of best/latest estimates over all countries)\n",
    "4. name and country of a) longest river, b) largest lake and c) airport at highest elevation"
   ]
  },
  {
   "cell_type": "markdown",
   "metadata": {},
   "source": [
    "****\n",
    "## Answer-1\n",
    "1. 10 countries with the lowest infant mortality rates"
   ]
  },
  {
   "cell_type": "code",
   "execution_count": 6,
   "metadata": {
    "collapsed": false
   },
   "outputs": [
    {
     "data": {
      "text/html": [
       "<div>\n",
       "<table border=\"1\" class=\"dataframe\">\n",
       "  <thead>\n",
       "    <tr style=\"text-align: right;\">\n",
       "      <th></th>\n",
       "      <th>country</th>\n",
       "      <th>infant_mortality</th>\n",
       "    </tr>\n",
       "  </thead>\n",
       "  <tbody>\n",
       "    <tr>\n",
       "      <th>38</th>\n",
       "      <td>Monaco</td>\n",
       "      <td>1.81</td>\n",
       "    </tr>\n",
       "    <tr>\n",
       "      <th>98</th>\n",
       "      <td>Japan</td>\n",
       "      <td>2.13</td>\n",
       "    </tr>\n",
       "    <tr>\n",
       "      <th>117</th>\n",
       "      <td>Bermuda</td>\n",
       "      <td>2.48</td>\n",
       "    </tr>\n",
       "    <tr>\n",
       "      <th>36</th>\n",
       "      <td>Norway</td>\n",
       "      <td>2.48</td>\n",
       "    </tr>\n",
       "    <tr>\n",
       "      <th>106</th>\n",
       "      <td>Singapore</td>\n",
       "      <td>2.53</td>\n",
       "    </tr>\n",
       "    <tr>\n",
       "      <th>37</th>\n",
       "      <td>Sweden</td>\n",
       "      <td>2.60</td>\n",
       "    </tr>\n",
       "    <tr>\n",
       "      <th>10</th>\n",
       "      <td>Czech Republic</td>\n",
       "      <td>2.63</td>\n",
       "    </tr>\n",
       "    <tr>\n",
       "      <th>78</th>\n",
       "      <td>Hong Kong</td>\n",
       "      <td>2.73</td>\n",
       "    </tr>\n",
       "    <tr>\n",
       "      <th>79</th>\n",
       "      <td>Macao</td>\n",
       "      <td>3.13</td>\n",
       "    </tr>\n",
       "    <tr>\n",
       "      <th>44</th>\n",
       "      <td>Iceland</td>\n",
       "      <td>3.15</td>\n",
       "    </tr>\n",
       "  </tbody>\n",
       "</table>\n",
       "</div>"
      ],
      "text/plain": [
       "            country  infant_mortality\n",
       "38           Monaco              1.81\n",
       "98            Japan              2.13\n",
       "117         Bermuda              2.48\n",
       "36           Norway              2.48\n",
       "106       Singapore              2.53\n",
       "37           Sweden              2.60\n",
       "10   Czech Republic              2.63\n",
       "78        Hong Kong              2.73\n",
       "79            Macao              3.13\n",
       "44          Iceland              3.15"
      ]
     },
     "execution_count": 6,
     "metadata": {},
     "output_type": "execute_result"
    }
   ],
   "source": [
    "import pandas as pd\n",
    "\n",
    "tree = ET.parse( './data/mondial_database.xml' )\n",
    "\n",
    "# A generator: iterates over tree and returns panda data frame row\n",
    "def iter_tree(root, child, element):\n",
    "    count = 0\n",
    "    for doc in root.iterfind(child):\n",
    "        _name = doc.find('name')\n",
    "        if _name is not None:\n",
    "            \n",
    "            _element = doc.find(element)\n",
    "            _element_val = None\n",
    "            if _element is not None:\n",
    "                _element_val = float(_element.text)\n",
    "            \n",
    "            # Found required elements - create a row\n",
    "            row = dict(zip([child, element], [_name.text, _element_val]))\n",
    "            row_s = pd.Series(row)\n",
    "            row_s.name = count\n",
    "            count += 1\n",
    "            \n",
    "            yield row_s\n",
    "    \n",
    "# create an empty data frame\n",
    "child = 'country'\n",
    "element = 'infant_mortality'\n",
    "df = pd.DataFrame(columns=(child, element))\n",
    "\n",
    "# iterate over the tree and append row into data frame\n",
    "for row in iter_tree(tree.getroot(), child, element):\n",
    "    df = df.append(row)\n",
    "    \n",
    "# query data frame\n",
    "df[df.infant_mortality.notnull()].sort_values(by=element).head(10)"
   ]
  },
  {
   "cell_type": "markdown",
   "metadata": {},
   "source": [
    "## Answer-2\n",
    "2. 10 cities with the largest population"
   ]
  },
  {
   "cell_type": "code",
   "execution_count": 7,
   "metadata": {
    "collapsed": false
   },
   "outputs": [
    {
     "data": {
      "text/html": [
       "<div>\n",
       "<table border=\"1\" class=\"dataframe\">\n",
       "  <thead>\n",
       "    <tr style=\"text-align: right;\">\n",
       "      <th></th>\n",
       "      <th>country</th>\n",
       "      <th>city</th>\n",
       "      <th>population</th>\n",
       "    </tr>\n",
       "  </thead>\n",
       "  <tbody>\n",
       "    <tr>\n",
       "      <th>529</th>\n",
       "      <td>India</td>\n",
       "      <td>Mumbai</td>\n",
       "      <td>12442373.0</td>\n",
       "    </tr>\n",
       "    <tr>\n",
       "      <th>554</th>\n",
       "      <td>India</td>\n",
       "      <td>Delhi</td>\n",
       "      <td>11034555.0</td>\n",
       "    </tr>\n",
       "    <tr>\n",
       "      <th>523</th>\n",
       "      <td>India</td>\n",
       "      <td>Bangalore</td>\n",
       "      <td>8443675.0</td>\n",
       "    </tr>\n",
       "    <tr>\n",
       "      <th>418</th>\n",
       "      <td>United Kingdom</td>\n",
       "      <td>London</td>\n",
       "      <td>8250205.0</td>\n",
       "    </tr>\n",
       "    <tr>\n",
       "      <th>487</th>\n",
       "      <td>Iran</td>\n",
       "      <td>Tehran</td>\n",
       "      <td>8154051.0</td>\n",
       "    </tr>\n",
       "    <tr>\n",
       "      <th>505</th>\n",
       "      <td>Bangladesh</td>\n",
       "      <td>Dhaka</td>\n",
       "      <td>7423137.0</td>\n",
       "    </tr>\n",
       "    <tr>\n",
       "      <th>558</th>\n",
       "      <td>India</td>\n",
       "      <td>Hyderabad</td>\n",
       "      <td>6731790.0</td>\n",
       "    </tr>\n",
       "    <tr>\n",
       "      <th>518</th>\n",
       "      <td>India</td>\n",
       "      <td>Ahmadabad</td>\n",
       "      <td>5577940.0</td>\n",
       "    </tr>\n",
       "    <tr>\n",
       "      <th>627</th>\n",
       "      <td>Angola</td>\n",
       "      <td>Luanda</td>\n",
       "      <td>5000000.0</td>\n",
       "    </tr>\n",
       "    <tr>\n",
       "      <th>542</th>\n",
       "      <td>India</td>\n",
       "      <td>Chennai</td>\n",
       "      <td>4646732.0</td>\n",
       "    </tr>\n",
       "  </tbody>\n",
       "</table>\n",
       "</div>"
      ],
      "text/plain": [
       "            country       city  population\n",
       "529           India     Mumbai  12442373.0\n",
       "554           India      Delhi  11034555.0\n",
       "523           India  Bangalore   8443675.0\n",
       "418  United Kingdom     London   8250205.0\n",
       "487            Iran     Tehran   8154051.0\n",
       "505      Bangladesh      Dhaka   7423137.0\n",
       "558           India  Hyderabad   6731790.0\n",
       "518           India  Ahmadabad   5577940.0\n",
       "627          Angola     Luanda   5000000.0\n",
       "542           India    Chennai   4646732.0"
      ]
     },
     "execution_count": 7,
     "metadata": {},
     "output_type": "execute_result"
    }
   ],
   "source": [
    "import pandas as pd\n",
    "from xml.etree import ElementTree as ET\n",
    "\n",
    "tree = ET.parse( './data/mondial_database.xml' )\n",
    "\n",
    "# create an empty data frame\n",
    "child = 'country'\n",
    "element = 'city'\n",
    "sub_elem = 'population'\n",
    "# A generator: iterates over tree and returns panda data frame row\n",
    "def iter_city_population(root):\n",
    "    count = 0\n",
    "    for doc in root.iterfind(child):\n",
    "        country_name = doc.find('name')\n",
    "        if country_name is not None:\n",
    "            \n",
    "            for doc1 in doc.getiterator(element):\n",
    "                city_name = doc1.find('name').text\n",
    "                \n",
    "                for doc2 in doc1.iterfind(sub_elem):\n",
    "                    # print (doc2.attrib)\n",
    "                    \n",
    "                    _subelement_val = None\n",
    "                    if doc2.attrib['year'] == '2011':\n",
    "                        \n",
    "                        _subelement_val = int(doc2.text)\n",
    "            \n",
    "                        # Found required elements - create a row\n",
    "                        row = dict(zip([child, element, sub_elem], [country_name.text, city_name, _subelement_val]))\n",
    "                        row_s = pd.Series(row)\n",
    "                        row_s.name = count\n",
    "                        count += 1\n",
    "\n",
    "                        yield row_s\n",
    "    \n",
    "df = pd.DataFrame(columns=(child, element, sub_elem))\n",
    "\n",
    "# iterate over the tree and append row into data frame\n",
    "for row in iter_city_population(tree.getroot()):\n",
    "    df = df.append(row)\n",
    "df.sort_values(by='population', ascending=False).head(10)"
   ]
  },
  {
   "cell_type": "markdown",
   "metadata": {},
   "source": [
    "****\n",
    "## Answer - 3\n",
    "3. 10 ethnic groups with the largest overall populations (sum of best/latest estimates over all countries)"
   ]
  },
  {
   "cell_type": "code",
   "execution_count": 8,
   "metadata": {
    "collapsed": false
   },
   "outputs": [
    {
     "name": "stdout",
     "output_type": "stream",
     "text": [
      "10 ethnicgroup with the largest population\n",
      "\n",
      "Ethnicgroup: Population\n",
      "=======================\n",
      "Han Chinese:  1245058800\n",
      "Indo-Aryan:  871815583\n",
      "European:  494872219\n",
      "African:  318325120\n",
      "Dravidian:  302713744\n",
      "Mestizo:  157734354\n",
      "Bengali:  146776916\n",
      "Russian:  131856996\n",
      "Japanese:  126534212\n",
      "Malay:  121993550\n"
     ]
    }
   ],
   "source": [
    "import pandas as pd\n",
    "from xml.etree import ElementTree as ET\n",
    "\n",
    "tree = ET.parse( './data/mondial_database.xml' )\n",
    "root = tree.getroot()\n",
    "\n",
    "# total population per country\n",
    "population = {}\n",
    "# ethnicgroup population\n",
    "eg_population = {}\n",
    "\n",
    "# collect population per country\n",
    "for elem in root.findall('country'):\n",
    "    # assumption is that the latest year population comes at the end\n",
    "    for item in elem.iterfind('population' ):\n",
    "        population[elem.find('name').text] = float(item.text)\n",
    "\n",
    "# go through ethenicgroups per county\n",
    "for elem in root.findall('country'):\n",
    "    country = elem.find('name').text\n",
    "    for item in elem.iterfind('ethnicgroup' ):\n",
    "        g_name = item.text\n",
    "        percent = float(item.attrib['percentage']) / 100\n",
    "        # workout ethenicgropu population from percentage and total population\n",
    "        g_population = population[country] * percent\n",
    "        \n",
    "        # add into enthenicgroup population\n",
    "        if g_name in eg_population:\n",
    "            eg_population[g_name] += g_population\n",
    "        else:\n",
    "            eg_population[g_name] = g_population\n",
    "\n",
    "count = 0\n",
    "print (\"10 ethnicgroup with the largest population\\n\")\n",
    "print (\"Ethnicgroup: Population\")\n",
    "print (\"=======================\")\n",
    "for item in sorted(eg_population.items(), key=lambda x:x[1], reverse=True):\n",
    "    if count == 10:\n",
    "        break\n",
    "    print(item[0] + \": \", int(item[1]))\n",
    "    count += 1"
   ]
  },
  {
   "cell_type": "markdown",
   "metadata": {
    "collapsed": true
   },
   "source": [
    "****\n",
    "## Answer - 4\n",
    "4. name and country of a) longest river, b) largest lake and c) airport at highest elevation"
   ]
  },
  {
   "cell_type": "code",
   "execution_count": 9,
   "metadata": {
    "collapsed": false
   },
   "outputs": [
    {
     "name": "stdout",
     "output_type": "stream",
     "text": [
      "\n",
      "Longest River: Amazonas\n",
      "River Length: 6448.000000\n",
      "Country it passes through: Colombia Brazil Peru\n",
      "\n",
      "Largest Lake: Caspian Sea\n",
      "Lake Area: 386400.000000\n",
      "Country it belongs to: Russia Azerbaijan Kazakhstan Iran Turkmenistan\n",
      "\n",
      "Airport at Highest Elevation: El Alto Intl\n",
      "Evelvation: 4063.000000\n",
      "Country it belongs to: Bolivia\n"
     ]
    }
   ],
   "source": [
    "import pandas as pd\n",
    "from xml.etree import ElementTree as ET\n",
    "\n",
    "tree = ET.parse( './data/mondial_database.xml' )\n",
    "root = tree.getroot()\n",
    "\n",
    "river = 'river'\n",
    "length = 'length'\n",
    "country_code = 'country_code'\n",
    "country = 'country'\n",
    "lake = 'lake'\n",
    "area = 'area'\n",
    "airport = 'airport'\n",
    "elevation = 'elevation'\n",
    "\n",
    "def get_child_text(element, child):\n",
    "    _val = None\n",
    "    _child_obj = element.find(child)\n",
    "    if _child_obj is not None:\n",
    "        _val = _child_obj.text\n",
    "    \n",
    "    return _val\n",
    "\n",
    "def get_df_raw(idx, columns, values):\n",
    "    row = dict(zip(columns,values))\n",
    "    row_s = pd.Series(row)\n",
    "    row_s.name = idx\n",
    "    \n",
    "    return row_s\n",
    "\n",
    "def to_float(_str):\n",
    "    if _str is not None:\n",
    "        return float(_str)\n",
    "    return 0.0\n",
    "\n",
    "def iter_river(root):\n",
    "    count = 0\n",
    "    for elem in root.findall(river):\n",
    "        \n",
    "        # Found required elements - create a row\n",
    "        _columns = [river, length, country_code]\n",
    "        _values = [get_child_text(elem, 'name'), to_float(get_child_text(elem, length)), elem.attrib[country]]\n",
    "        row_s = get_df_raw(count, _columns, _values)\n",
    "        count += 1\n",
    "\n",
    "        yield row_s\n",
    "\n",
    "def iter_lake(root):\n",
    "    count = 0\n",
    "    for elem in root.findall(lake):\n",
    "        \n",
    "        # Found required elements - create a row\n",
    "        _columns = [lake, area, country_code]\n",
    "        _values = [get_child_text(elem, 'name'), to_float(get_child_text(elem, area)), elem.attrib[country]]\n",
    "        row_s = get_df_raw(count, _columns, _values)\n",
    "        count += 1\n",
    "\n",
    "        yield row_s\n",
    "\n",
    "def iter_airport(root):\n",
    "    count = 0\n",
    "    for elem in root.findall(airport):\n",
    "        \n",
    "        # Found required elements - create a row\n",
    "        _columns = [airport, elevation, country_code]\n",
    "        _values = [get_child_text(elem, 'name'), to_float(get_child_text(elem, elevation)), elem.attrib[country]]\n",
    "        row_s = get_df_raw(count, _columns, _values)\n",
    "        count += 1\n",
    "\n",
    "        yield row_s\n",
    "\n",
    "def iter_country(root):\n",
    "    count = 0\n",
    "    for elem in root.findall(country):\n",
    "        \n",
    "        # Found required elements - create a row\n",
    "        row_s = get_df_raw(count, [country_code, country], [elem.attrib['car_code'], get_child_text(elem, 'name')])\n",
    "        count += 1\n",
    "\n",
    "        yield row_s\n",
    "        \n",
    "def get_countries(country_code):\n",
    "    country_names = []\n",
    "    for _cc in country_code.split():\n",
    "        c_name = df_country[df_country.country_code == _cc].iloc[0]['country']\n",
    "        country_names.append(c_name)\n",
    "    return country_names\n",
    "\n",
    "df_river = pd.DataFrame(columns=(river, length, country_code))\n",
    "for row in iter_river(root):\n",
    "    df_river = df_river.append(row)\n",
    "\n",
    "df_country = pd.DataFrame(columns=(country_code, country))\n",
    "for row in iter_country(root):\n",
    "    df_country = df_country.append(row)\n",
    "\n",
    "longest_river = df_river.sort_values(by=length, ascending=False).head(1)\n",
    "lr_country_names = get_countries(longest_river.iloc[0]['country_code'])\n",
    "print(\"\\nLongest River: %s\" % longest_river.iloc[0]['river'])\n",
    "print(\"River Length: %f\" % longest_river.iloc[0]['length']) \n",
    "print(\"Country it passes through:\", *lr_country_names, sep=\" \")\n",
    "      \n",
    "df_lake = pd.DataFrame(columns=(lake, area, country_code))\n",
    "for row in iter_lake(root):\n",
    "    df_lake = df_lake.append(row)\n",
    "\n",
    "largest_lake = df_lake.sort_values(by=area, ascending=False).head(1)\n",
    "ll_country_names = get_countries(largest_lake.iloc[0]['country_code'])\n",
    "print(\"\\nLargest Lake: %s\" % largest_lake.iloc[0][lake])\n",
    "print(\"Lake Area: %f\" % largest_lake.iloc[0][area]) \n",
    "print(\"Country it belongs to:\", *ll_country_names, sep=\" \")\n",
    "\n",
    "df_airport = pd.DataFrame(columns=(airport, elevation, country_code))\n",
    "for row in iter_airport(root):\n",
    "    df_airport = df_airport.append(row)\n",
    "\n",
    "airport_highest = df_airport.sort_values(by=elevation, ascending=False).head(1)\n",
    "ah_country_names = get_countries(airport_highest.iloc[0]['country_code'])\n",
    "print(\"\\nAirport at Highest Elevation: %s\" % airport_highest.iloc[0][airport])\n",
    "print(\"Evelvation: %f\" % airport_highest.iloc[0][elevation]) \n",
    "print(\"Country it belongs to:\", *ah_country_names, sep=\" \")\n",
    "\n"
   ]
  }
 ],
 "metadata": {
  "anaconda-cloud": {},
  "kernelspec": {
   "display_name": "Python [conda root]",
   "language": "python",
   "name": "conda-root-py"
  },
  "language_info": {
   "codemirror_mode": {
    "name": "ipython",
    "version": 3
   },
   "file_extension": ".py",
   "mimetype": "text/x-python",
   "name": "python",
   "nbconvert_exporter": "python",
   "pygments_lexer": "ipython3",
   "version": "3.5.2"
  }
 },
 "nbformat": 4,
 "nbformat_minor": 0
}
